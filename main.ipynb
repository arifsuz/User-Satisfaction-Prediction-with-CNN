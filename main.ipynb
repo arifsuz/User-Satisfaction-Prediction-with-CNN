{
 "cells": [
  {
   "cell_type": "markdown",
   "id": "e64a0d03",
   "metadata": {},
   "source": [
    "# CREATE ARSITEKTURE & TRAINING MODEL CNN"
   ]
  },
  {
   "cell_type": "code",
   "execution_count": 28,
   "id": "ddbcc27a",
   "metadata": {},
   "outputs": [
    {
     "name": "stdout",
     "output_type": "stream",
     "text": [
      "Epoch 1/50\n"
     ]
    },
    {
     "name": "stderr",
     "output_type": "stream",
     "text": [
      "c:\\Users\\digit\\AppData\\Local\\Programs\\Python\\Python312\\Lib\\site-packages\\keras\\src\\layers\\convolutional\\base_conv.py:107: UserWarning:\n",
      "\n",
      "Do not pass an `input_shape`/`input_dim` argument to a layer. When using Sequential models, prefer using an `Input(shape)` object as the first layer in the model instead.\n",
      "\n"
     ]
    },
    {
     "name": "stdout",
     "output_type": "stream",
     "text": [
      "\u001b[1m1340/1340\u001b[0m \u001b[32m━━━━━━━━━━━━━━━━━━━━\u001b[0m\u001b[37m\u001b[0m \u001b[1m5s\u001b[0m 3ms/step - accuracy: 0.7993 - loss: 0.4000 - val_accuracy: 0.8779 - val_loss: 0.2834\n",
      "Epoch 2/50\n",
      "\u001b[1m1340/1340\u001b[0m \u001b[32m━━━━━━━━━━━━━━━━━━━━\u001b[0m\u001b[37m\u001b[0m \u001b[1m3s\u001b[0m 3ms/step - accuracy: 0.8671 - loss: 0.3036 - val_accuracy: 0.8734 - val_loss: 0.2637\n",
      "Epoch 3/50\n",
      "\u001b[1m1340/1340\u001b[0m \u001b[32m━━━━━━━━━━━━━━━━━━━━\u001b[0m\u001b[37m\u001b[0m \u001b[1m3s\u001b[0m 2ms/step - accuracy: 0.8763 - loss: 0.2841 - val_accuracy: 0.8810 - val_loss: 0.2587\n",
      "Epoch 4/50\n",
      "\u001b[1m1340/1340\u001b[0m \u001b[32m━━━━━━━━━━━━━━━━━━━━\u001b[0m\u001b[37m\u001b[0m \u001b[1m3s\u001b[0m 2ms/step - accuracy: 0.8772 - loss: 0.2783 - val_accuracy: 0.8790 - val_loss: 0.2584\n",
      "Epoch 5/50\n",
      "\u001b[1m1340/1340\u001b[0m \u001b[32m━━━━━━━━━━━━━━━━━━━━\u001b[0m\u001b[37m\u001b[0m \u001b[1m3s\u001b[0m 2ms/step - accuracy: 0.8857 - loss: 0.2672 - val_accuracy: 0.8869 - val_loss: 0.2549\n",
      "Epoch 6/50\n",
      "\u001b[1m1340/1340\u001b[0m \u001b[32m━━━━━━━━━━━━━━━━━━━━\u001b[0m\u001b[37m\u001b[0m \u001b[1m3s\u001b[0m 2ms/step - accuracy: 0.8822 - loss: 0.2709 - val_accuracy: 0.8898 - val_loss: 0.2494\n",
      "Epoch 7/50\n",
      "\u001b[1m1340/1340\u001b[0m \u001b[32m━━━━━━━━━━━━━━━━━━━━\u001b[0m\u001b[37m\u001b[0m \u001b[1m3s\u001b[0m 2ms/step - accuracy: 0.8817 - loss: 0.2683 - val_accuracy: 0.8884 - val_loss: 0.2482\n",
      "Epoch 8/50\n",
      "\u001b[1m1340/1340\u001b[0m \u001b[32m━━━━━━━━━━━━━━━━━━━━\u001b[0m\u001b[37m\u001b[0m \u001b[1m3s\u001b[0m 2ms/step - accuracy: 0.8868 - loss: 0.2629 - val_accuracy: 0.8894 - val_loss: 0.2473\n",
      "Epoch 9/50\n",
      "\u001b[1m1340/1340\u001b[0m \u001b[32m━━━━━━━━━━━━━━━━━━━━\u001b[0m\u001b[37m\u001b[0m \u001b[1m3s\u001b[0m 2ms/step - accuracy: 0.8885 - loss: 0.2603 - val_accuracy: 0.8906 - val_loss: 0.2463\n",
      "Epoch 10/50\n",
      "\u001b[1m1340/1340\u001b[0m \u001b[32m━━━━━━━━━━━━━━━━━━━━\u001b[0m\u001b[37m\u001b[0m \u001b[1m3s\u001b[0m 2ms/step - accuracy: 0.8887 - loss: 0.2594 - val_accuracy: 0.8915 - val_loss: 0.2441\n",
      "Epoch 11/50\n",
      "\u001b[1m1340/1340\u001b[0m \u001b[32m━━━━━━━━━━━━━━━━━━━━\u001b[0m\u001b[37m\u001b[0m \u001b[1m3s\u001b[0m 2ms/step - accuracy: 0.8869 - loss: 0.2575 - val_accuracy: 0.8910 - val_loss: 0.2475\n",
      "Epoch 12/50\n",
      "\u001b[1m1340/1340\u001b[0m \u001b[32m━━━━━━━━━━━━━━━━━━━━\u001b[0m\u001b[37m\u001b[0m \u001b[1m3s\u001b[0m 2ms/step - accuracy: 0.8900 - loss: 0.2548 - val_accuracy: 0.8945 - val_loss: 0.2401\n",
      "Epoch 13/50\n",
      "\u001b[1m1340/1340\u001b[0m \u001b[32m━━━━━━━━━━━━━━━━━━━━\u001b[0m\u001b[37m\u001b[0m \u001b[1m3s\u001b[0m 2ms/step - accuracy: 0.8889 - loss: 0.2579 - val_accuracy: 0.8887 - val_loss: 0.2416\n",
      "Epoch 14/50\n",
      "\u001b[1m1340/1340\u001b[0m \u001b[32m━━━━━━━━━━━━━━━━━━━━\u001b[0m\u001b[37m\u001b[0m \u001b[1m3s\u001b[0m 2ms/step - accuracy: 0.8931 - loss: 0.2519 - val_accuracy: 0.8906 - val_loss: 0.2409\n",
      "Epoch 15/50\n",
      "\u001b[1m1340/1340\u001b[0m \u001b[32m━━━━━━━━━━━━━━━━━━━━\u001b[0m\u001b[37m\u001b[0m \u001b[1m3s\u001b[0m 2ms/step - accuracy: 0.8905 - loss: 0.2535 - val_accuracy: 0.8928 - val_loss: 0.2390\n",
      "Epoch 16/50\n",
      "\u001b[1m1340/1340\u001b[0m \u001b[32m━━━━━━━━━━━━━━━━━━━━\u001b[0m\u001b[37m\u001b[0m \u001b[1m3s\u001b[0m 2ms/step - accuracy: 0.8953 - loss: 0.2458 - val_accuracy: 0.8948 - val_loss: 0.2379\n",
      "Epoch 17/50\n",
      "\u001b[1m1340/1340\u001b[0m \u001b[32m━━━━━━━━━━━━━━━━━━━━\u001b[0m\u001b[37m\u001b[0m \u001b[1m3s\u001b[0m 2ms/step - accuracy: 0.8893 - loss: 0.2539 - val_accuracy: 0.8940 - val_loss: 0.2382\n",
      "Epoch 18/50\n",
      "\u001b[1m1340/1340\u001b[0m \u001b[32m━━━━━━━━━━━━━━━━━━━━\u001b[0m\u001b[37m\u001b[0m \u001b[1m3s\u001b[0m 2ms/step - accuracy: 0.8939 - loss: 0.2499 - val_accuracy: 0.8970 - val_loss: 0.2352\n",
      "Epoch 19/50\n",
      "\u001b[1m1340/1340\u001b[0m \u001b[32m━━━━━━━━━━━━━━━━━━━━\u001b[0m\u001b[37m\u001b[0m \u001b[1m3s\u001b[0m 2ms/step - accuracy: 0.8935 - loss: 0.2511 - val_accuracy: 0.8946 - val_loss: 0.2338\n",
      "Epoch 20/50\n",
      "\u001b[1m1340/1340\u001b[0m \u001b[32m━━━━━━━━━━━━━━━━━━━━\u001b[0m\u001b[37m\u001b[0m \u001b[1m4s\u001b[0m 3ms/step - accuracy: 0.8949 - loss: 0.2483 - val_accuracy: 0.8962 - val_loss: 0.2333\n",
      "Epoch 21/50\n",
      "\u001b[1m1340/1340\u001b[0m \u001b[32m━━━━━━━━━━━━━━━━━━━━\u001b[0m\u001b[37m\u001b[0m \u001b[1m3s\u001b[0m 3ms/step - accuracy: 0.8951 - loss: 0.2448 - val_accuracy: 0.8964 - val_loss: 0.2329\n",
      "Epoch 22/50\n",
      "\u001b[1m1340/1340\u001b[0m \u001b[32m━━━━━━━━━━━━━━━━━━━━\u001b[0m\u001b[37m\u001b[0m \u001b[1m3s\u001b[0m 2ms/step - accuracy: 0.8966 - loss: 0.2443 - val_accuracy: 0.8950 - val_loss: 0.2350\n",
      "Epoch 23/50\n",
      "\u001b[1m1340/1340\u001b[0m \u001b[32m━━━━━━━━━━━━━━━━━━━━\u001b[0m\u001b[37m\u001b[0m \u001b[1m3s\u001b[0m 2ms/step - accuracy: 0.8916 - loss: 0.2500 - val_accuracy: 0.8949 - val_loss: 0.2324\n",
      "Epoch 24/50\n",
      "\u001b[1m1340/1340\u001b[0m \u001b[32m━━━━━━━━━━━━━━━━━━━━\u001b[0m\u001b[37m\u001b[0m \u001b[1m3s\u001b[0m 2ms/step - accuracy: 0.8969 - loss: 0.2435 - val_accuracy: 0.8943 - val_loss: 0.2346\n",
      "Epoch 25/50\n",
      "\u001b[1m1340/1340\u001b[0m \u001b[32m━━━━━━━━━━━━━━━━━━━━\u001b[0m\u001b[37m\u001b[0m \u001b[1m3s\u001b[0m 2ms/step - accuracy: 0.8930 - loss: 0.2482 - val_accuracy: 0.8951 - val_loss: 0.2357\n",
      "Epoch 26/50\n",
      "\u001b[1m1340/1340\u001b[0m \u001b[32m━━━━━━━━━━━━━━━━━━━━\u001b[0m\u001b[37m\u001b[0m \u001b[1m3s\u001b[0m 2ms/step - accuracy: 0.8941 - loss: 0.2458 - val_accuracy: 0.8959 - val_loss: 0.2335\n",
      "Epoch 27/50\n",
      "\u001b[1m1340/1340\u001b[0m \u001b[32m━━━━━━━━━━━━━━━━━━━━\u001b[0m\u001b[37m\u001b[0m \u001b[1m3s\u001b[0m 3ms/step - accuracy: 0.8929 - loss: 0.2469 - val_accuracy: 0.8941 - val_loss: 0.2341\n",
      "Epoch 28/50\n",
      "\u001b[1m1340/1340\u001b[0m \u001b[32m━━━━━━━━━━━━━━━━━━━━\u001b[0m\u001b[37m\u001b[0m \u001b[1m3s\u001b[0m 2ms/step - accuracy: 0.8956 - loss: 0.2451 - val_accuracy: 0.8959 - val_loss: 0.2310\n",
      "Epoch 29/50\n",
      "\u001b[1m1340/1340\u001b[0m \u001b[32m━━━━━━━━━━━━━━━━━━━━\u001b[0m\u001b[37m\u001b[0m \u001b[1m3s\u001b[0m 2ms/step - accuracy: 0.8956 - loss: 0.2438 - val_accuracy: 0.8972 - val_loss: 0.2306\n",
      "Epoch 30/50\n",
      "\u001b[1m1340/1340\u001b[0m \u001b[32m━━━━━━━━━━━━━━━━━━━━\u001b[0m\u001b[37m\u001b[0m \u001b[1m3s\u001b[0m 2ms/step - accuracy: 0.8956 - loss: 0.2438 - val_accuracy: 0.8963 - val_loss: 0.2294\n",
      "Epoch 31/50\n",
      "\u001b[1m1340/1340\u001b[0m \u001b[32m━━━━━━━━━━━━━━━━━━━━\u001b[0m\u001b[37m\u001b[0m \u001b[1m3s\u001b[0m 2ms/step - accuracy: 0.8969 - loss: 0.2399 - val_accuracy: 0.8991 - val_loss: 0.2306\n",
      "Epoch 32/50\n",
      "\u001b[1m1340/1340\u001b[0m \u001b[32m━━━━━━━━━━━━━━━━━━━━\u001b[0m\u001b[37m\u001b[0m \u001b[1m3s\u001b[0m 2ms/step - accuracy: 0.8929 - loss: 0.2455 - val_accuracy: 0.8972 - val_loss: 0.2331\n",
      "Epoch 33/50\n",
      "\u001b[1m1340/1340\u001b[0m \u001b[32m━━━━━━━━━━━━━━━━━━━━\u001b[0m\u001b[37m\u001b[0m \u001b[1m3s\u001b[0m 2ms/step - accuracy: 0.8966 - loss: 0.2404 - val_accuracy: 0.8961 - val_loss: 0.2308\n",
      "Epoch 34/50\n",
      "\u001b[1m1340/1340\u001b[0m \u001b[32m━━━━━━━━━━━━━━━━━━━━\u001b[0m\u001b[37m\u001b[0m \u001b[1m3s\u001b[0m 2ms/step - accuracy: 0.8985 - loss: 0.2377 - val_accuracy: 0.8964 - val_loss: 0.2304\n",
      "Epoch 35/50\n",
      "\u001b[1m1340/1340\u001b[0m \u001b[32m━━━━━━━━━━━━━━━━━━━━\u001b[0m\u001b[37m\u001b[0m \u001b[1m3s\u001b[0m 2ms/step - accuracy: 0.8971 - loss: 0.2412 - val_accuracy: 0.8967 - val_loss: 0.2304\n"
     ]
    },
    {
     "data": {
      "image/png": "[encoded data removed]",
      "text/plain": [
       "<Figure size 1200x500 with 2 Axes>"
      ]
     },
     "metadata": {},
     "output_type": "display_data"
    },
    {
     "name": "stdout",
     "output_type": "stream",
     "text": [
      "\u001b[1m2093/2093\u001b[0m \u001b[32m━━━━━━━━━━━━━━━━━━━━\u001b[0m\u001b[37m\u001b[0m \u001b[1m2s\u001b[0m 798us/step\n"
     ]
    },
    {
     "data": {
      "application/vnd.plotly.v1+json": {
       "config": {
        "plotlyServerURL": "https://plot.ly"
       },
       "data": [
        {
         "marker": {
          "color": "royalblue"
         },
         "name": "True",
         "type": "bar",
         "x": [
          "Negative",
          "Positive"
         ],
         "y": [
          23473,
          43488
         ]
        },
        {
         "marker": {
          "color": "orange"
         },
         "name": "Predicted",
         "type": "bar",
         "x": [
          "Negative",
          "Positive"
         ],
         "y": [
          21105,
          45856
         ]
        }
       ],
       "layout": {
        "barmode": "group",
        "template": {
         "data": {
          "bar": [
           {
            "error_x": {
             "color": "#2a3f5f"
            },
            "error_y": {
             "color": "#2a3f5f"
            },
            "marker": {
             "line": {
              "color": "#E5ECF6",
              "width": 0.5
             },
             "pattern": {
              "fillmode": "overlay",
              "size": 10,
              "solidity": 0.2
             }
            },
            "type": "bar"
           }
          ],
          "barpolar": [
           {
            "marker": {
             "line": {
              "color": "#E5ECF6",
              "width": 0.5
             },
             "pattern": {
              "fillmode": "overlay",
              "size": 10,
              "solidity": 0.2
             }
            },
            "type": "barpolar"
           }
          ],
          "carpet": [
           {
            "aaxis": {
             "endlinecolor": "#2a3f5f",
             "gridcolor": "white",
             "linecolor": "white",
             "minorgridcolor": "white",
             "startlinecolor": "#2a3f5f"
            },
            "baxis": {
             "endlinecolor": "#2a3f5f",
             "gridcolor": "white",
             "linecolor": "white",
             "minorgridcolor": "white",
             "startlinecolor": "#2a3f5f"
            },
            "type": "carpet"
           }
          ],
          "choropleth": [
           {
            "colorbar": {
             "outlinewidth": 0,
             "ticks": ""
            },
            "type": "choropleth"
           }
          ],
          "contour": [
           {
            "colorbar": {
             "outlinewidth": 0,
             "ticks": ""
            },
            "colorscale": [
             [
              0,
              "#0d0887"
             ],
             [
              0.1111111111111111,
              "#46039f"
             ],
             [
              0.2222222222222222,
              "#7201a8"
             ],
             [
              0.3333333333333333,
              "#9c179e"
             ],
             [
              0.4444444444444444,
              "#bd3786"
             ],
             [
              0.5555555555555556,
              "#d8576b"
             ],
             [
              0.6666666666666666,
              "#ed7953"
             ],
             [
              0.7777777777777778,
              "#fb9f3a"
             ],
             [
              0.8888888888888888,
              "#fdca26"
             ],
             [
              1,
              "#f0f921"
             ]
            ],
            "type": "contour"
           }
          ],
          "contourcarpet": [
           {
            "colorbar": {
             "outlinewidth": 0,
             "ticks": ""
            },
            "type": "contourcarpet"
           }
          ],
          "heatmap": [
           {
            "colorbar": {
             "outlinewidth": 0,
             "ticks": ""
            },
            "colorscale": [
             [
              0,
              "#0d0887"
             ],
             [
              0.1111111111111111,
              "#46039f"
             ],
             [
              0.2222222222222222,
              "#7201a8"
             ],
             [
              0.3333333333333333,
              "#9c179e"
             ],
             [
              0.4444444444444444,
              "#bd3786"
             ],
             [
              0.5555555555555556,
              "#d8576b"
             ],
             [
              0.6666666666666666,
              "#ed7953"
             ],
             [
              0.7777777777777778,
              "#fb9f3a"
             ],
             [
              0.8888888888888888,
              "#fdca26"
             ],
             [
              1,
              "#f0f921"
             ]
            ],
            "type": "heatmap"
           }
          ],
          "heatmapgl": [
           {
            "colorbar": {
             "outlinewidth": 0,
             "ticks": ""
            },
            "colorscale": [
             [
              0,
              "#0d0887"
             ],
             [
              0.1111111111111111,
              "#46039f"
             ],
             [
              0.2222222222222222,
              "#7201a8"
             ],
             [
              0.3333333333333333,
              "#9c179e"
             ],
             [
              0.4444444444444444,
              "#bd3786"
             ],
             [
              0.5555555555555556,
              "#d8576b"
             ],
             [
              0.6666666666666666,
              "#ed7953"
             ],
             [
              0.7777777777777778,
              "#fb9f3a"
             ],
             [
              0.8888888888888888,
              "#fdca26"
             ],
             [
              1,
              "#f0f921"
             ]
            ],
            "type": "heatmapgl"
           }
          ],
          "histogram": [
           {
            "marker": {
             "pattern": {
              "fillmode": "overlay",
              "size": 10,
              "solidity": 0.2
             }
            },
            "type": "histogram"
           }
          ],
          "histogram2d": [
           {
            "colorbar": {
             "outlinewidth": 0,
             "ticks": ""
            },
            "colorscale": [
             [
              0,
              "#0d0887"
             ],
             [
              0.1111111111111111,
              "#46039f"
             ],
             [
              0.2222222222222222,
              "#7201a8"
             ],
             [
              0.3333333333333333,
              "#9c179e"
             ],
             [
              0.4444444444444444,
              "#bd3786"
             ],
             [
              0.5555555555555556,
              "#d8576b"
             ],
             [
              0.6666666666666666,
              "#ed7953"
             ],
             [
              0.7777777777777778,
              "#fb9f3a"
             ],
             [
              0.8888888888888888,
              "#fdca26"
             ],
             [
              1,
              "#f0f921"
             ]
            ],
            "type": "histogram2d"
           }
          ],
          "histogram2dcontour": [
           {
            "colorbar": {
             "outlinewidth": 0,
             "ticks": ""
            },
            "colorscale": [
             [
              0,
              "#0d0887"
             ],
             [
              0.1111111111111111,
              "#46039f"
             ],
             [
              0.2222222222222222,
              "#7201a8"
             ],
             [
              0.3333333333333333,
              "#9c179e"
             ],
             [
              0.4444444444444444,
              "#bd3786"
             ],
             [
              0.5555555555555556,
              "#d8576b"
             ],
             [
              0.6666666666666666,
              "#ed7953"
             ],
             [
              0.7777777777777778,
              "#fb9f3a"
             ],
             [
              0.8888888888888888,
              "#fdca26"
             ],
             [
              1,
              "#f0f921"
             ]
            ],
            "type": "histogram2dcontour"
           }
          ],
          "mesh3d": [
           {
            "colorbar": {
             "outlinewidth": 0,
             "ticks": ""
            },
            "type": "mesh3d"
           }
          ],
          "parcoords": [
           {
            "line": {
             "colorbar": {
              "outlinewidth": 0,
              "ticks": ""
             }
            },
            "type": "parcoords"
           }
          ],
          "pie": [
           {
            "automargin": true,
            "type": "pie"
           }
          ],
          "scatter": [
           {
            "fillpattern": {
             "fillmode": "overlay",
             "size": 10,
             "solidity": 0.2
            },
            "type": "scatter"
           }
          ],
          "scatter3d": [
           {
            "line": {
             "colorbar": {
              "outlinewidth": 0,
              "ticks": ""
             }
            },
            "marker": {
             "colorbar": {
              "outlinewidth": 0,
              "ticks": ""
             }
            },
            "type": "scatter3d"
           }
          ],
          "scattercarpet": [
           {
            "marker": {
             "colorbar": {
              "outlinewidth": 0,
              "ticks": ""
             }
            },
            "type": "scattercarpet"
           }
          ],
          "scattergeo": [
           {
            "marker": {
             "colorbar": {
              "outlinewidth": 0,
              "ticks": ""
             }
            },
            "type": "scattergeo"
           }
          ],
          "scattergl": [
           {
            "marker": {
             "colorbar": {
              "outlinewidth": 0,
              "ticks": ""
             }
            },
            "type": "scattergl"
           }
          ],
          "scattermapbox": [
           {
            "marker": {
             "colorbar": {
              "outlinewidth": 0,
              "ticks": ""
             }
            },
            "type": "scattermapbox"
           }
          ],
          "scatterpolar": [
           {
            "marker": {
             "colorbar": {
              "outlinewidth": 0,
              "ticks": ""
             }
            },
            "type": "scatterpolar"
           }
          ],
          "scatterpolargl": [
           {
            "marker": {
             "colorbar": {
              "outlinewidth": 0,
              "ticks": ""
             }
            },
            "type": "scatterpolargl"
           }
          ],
          "scatterternary": [
           {
            "marker": {
             "colorbar": {
              "outlinewidth": 0,
              "ticks": ""
             }
            },
            "type": "scatterternary"
           }
          ],
          "surface": [
           {
            "colorbar": {
             "outlinewidth": 0,
             "ticks": ""
            },
            "colorscale": [
             [
              0,
              "#0d0887"
             ],
             [
              0.1111111111111111,
              "#46039f"
             ],
             [
              0.2222222222222222,
              "#7201a8"
             ],
             [
              0.3333333333333333,
              "#9c179e"
             ],
             [
              0.4444444444444444,
              "#bd3786"
             ],
             [
              0.5555555555555556,
              "#d8576b"
             ],
             [
              0.6666666666666666,
              "#ed7953"
             ],
             [
              0.7777777777777778,
              "#fb9f3a"
             ],
             [
              0.8888888888888888,
              "#fdca26"
             ],
             [
              1,
              "#f0f921"
             ]
            ],
            "type": "surface"
           }
          ],
          "table": [
           {
            "cells": {
             "fill": {
              "color": "#EBF0F8"
             },
             "line": {
              "color": "white"
             }
            },
            "header": {
             "fill": {
              "color": "#C8D4E3"
             },
             "line": {
              "color": "white"
             }
            },
            "type": "table"
           }
          ]
         },
         "layout": {
          "annotationdefaults": {
           "arrowcolor": "#2a3f5f",
           "arrowhead": 0,
           "arrowwidth": 1
          },
          "autotypenumbers": "strict",
          "coloraxis": {
           "colorbar": {
            "outlinewidth": 0,
            "ticks": ""
           }
          },
          "colorscale": {
           "diverging": [
            [
             0,
             "#8e0152"
            ],
            [
             0.1,
             "#c51b7d"
            ],
            [
             0.2,
             "#de77ae"
            ],
            [
             0.3,
             "#f1b6da"
            ],
            [
             0.4,
             "#fde0ef"
            ],
            [
             0.5,
             "#f7f7f7"
            ],
            [
             0.6,
             "#e6f5d0"
            ],
            [
             0.7,
             "#b8e186"
            ],
            [
             0.8,
             "#7fbc41"
            ],
            [
             0.9,
             "#4d9221"
            ],
            [
             1,
             "#276419"
            ]
           ],
           "sequential": [
            [
             0,
             "#0d0887"
            ],
            [
             0.1111111111111111,
             "#46039f"
            ],
            [
             0.2222222222222222,
             "#7201a8"
            ],
            [
             0.3333333333333333,
             "#9c179e"
            ],
            [
             0.4444444444444444,
             "#bd3786"
            ],
            [
             0.5555555555555556,
             "#d8576b"
            ],
            [
             0.6666666666666666,
             "#ed7953"
            ],
            [
             0.7777777777777778,
             "#fb9f3a"
            ],
            [
             0.8888888888888888,
             "#fdca26"
            ],
            [
             1,
             "#f0f921"
            ]
           ],
           "sequentialminus": [
            [
             0,
             "#0d0887"
            ],
            [
             0.1111111111111111,
             "#46039f"
            ],
            [
             0.2222222222222222,
             "#7201a8"
            ],
            [
             0.3333333333333333,
             "#9c179e"
            ],
            [
             0.4444444444444444,
             "#bd3786"
            ],
            [
             0.5555555555555556,
             "#d8576b"
            ],
            [
             0.6666666666666666,
             "#ed7953"
            ],
            [
             0.7777777777777778,
             "#fb9f3a"
            ],
            [
             0.8888888888888888,
             "#fdca26"
            ],
            [
             1,
             "#f0f921"
            ]
           ]
          },
          "colorway": [
           "#636efa",
           "#EF553B",
           "#00cc96",
           "#ab63fa",
           "#FFA15A",
           "#19d3f3",
           "#FF6692",
           "#B6E880",
           "#FF97FF",
           "#FECB52"
          ],
          "font": {
           "color": "#2a3f5f"
          },
          "geo": {
           "bgcolor": "white",
           "lakecolor": "white",
           "landcolor": "#E5ECF6",
           "showlakes": true,
           "showland": true,
           "subunitcolor": "white"
          },
          "hoverlabel": {
           "align": "left"
          },
          "hovermode": "closest",
          "mapbox": {
           "style": "light"
          },
          "paper_bgcolor": "white",
          "plot_bgcolor": "#E5ECF6",
          "polar": {
           "angularaxis": {
            "gridcolor": "white",
            "linecolor": "white",
            "ticks": ""
           },
           "bgcolor": "#E5ECF6",
           "radialaxis": {
            "gridcolor": "white",
            "linecolor": "white",
            "ticks": ""
           }
          },
          "scene": {
           "xaxis": {
            "backgroundcolor": "#E5ECF6",
            "gridcolor": "white",
            "gridwidth": 2,
            "linecolor": "white",
            "showbackground": true,
            "ticks": "",
            "zerolinecolor": "white"
           },
           "yaxis": {
            "backgroundcolor": "#E5ECF6",
            "gridcolor": "white",
            "gridwidth": 2,
            "linecolor": "white",
            "showbackground": true,
            "ticks": "",
            "zerolinecolor": "white"
           },
           "zaxis": {
            "backgroundcolor": "#E5ECF6",
            "gridcolor": "white",
            "gridwidth": 2,
            "linecolor": "white",
            "showbackground": true,
            "ticks": "",
            "zerolinecolor": "white"
           }
          },
          "shapedefaults": {
           "line": {
            "color": "#2a3f5f"
           }
          },
          "ternary": {
           "aaxis": {
            "gridcolor": "white",
            "linecolor": "white",
            "ticks": ""
           },
           "baxis": {
            "gridcolor": "white",
            "linecolor": "white",
            "ticks": ""
           },
           "bgcolor": "#E5ECF6",
           "caxis": {
            "gridcolor": "white",
            "linecolor": "white",
            "ticks": ""
           }
          },
          "title": {
           "x": 0.05
          },
          "xaxis": {
           "automargin": true,
           "gridcolor": "white",
           "linecolor": "white",
           "ticks": "",
           "title": {
            "standoff": 15
           },
           "zerolinecolor": "white",
           "zerolinewidth": 2
          },
          "yaxis": {
           "automargin": true,
           "gridcolor": "white",
           "linecolor": "white",
           "ticks": "",
           "title": {
            "standoff": 15
           },
           "zerolinecolor": "white",
           "zerolinewidth": 2
          }
         }
        },
        "title": {
         "text": "Distribusi Kelas Gabungan (True vs Predicted) [Negative & Positive Only]"
        },
        "xaxis": {
         "title": {
          "text": "Class"
         }
        },
        "yaxis": {
         "title": {
          "text": "Count"
         }
        }
       }
      }
     },
     "metadata": {},
     "output_type": "display_data"
    },
    {
     "data": {
      "application/vnd.plotly.v1+json": {
       "config": {
        "plotlyServerURL": "https://plot.ly"
       },
       "data": [
        {
         "cells": {
          "align": "left",
          "fill": {
           "color": "lavender"
          },
          "values": [
           [
            "Computer Science",
            "Computer Science",
            "Computer Science",
            "Computer Science",
            "Computer Science",
            "Menagement",
            "Menagement",
            "Menagement",
            "Menagement",
            "Menagement",
            "Engineering",
            "Engineering",
            "Engineering",
            "Engineering",
            "Engineering",
            "Accounting",
            "Accounting",
            "Accounting",
            "Accounting",
            "Accounting"
           ],
           [
            "task 1",
            "task 2",
            "task 3",
            "task 4",
            "task 5",
            "task 1",
            "task 2",
            "task 3",
            "task 4",
            "task 5",
            "task 1",
            "task 2",
            "task 3",
            "task 4",
            "task 5",
            "task 1",
            "task 2",
            "task 3",
            "task 4",
            "task 5"
           ],
           [
            9,
            26,
            24,
            7,
            8,
            0,
            11,
            7,
            11,
            0,
            4,
            8,
            8,
            0,
            18,
            35,
            26,
            53,
            0,
            0
           ],
           [
            46,
            0,
            2,
            37,
            0,
            104,
            73,
            77,
            107,
            124,
            16,
            23,
            21,
            23,
            1117,
            50,
            36,
            31,
            0,
            135
           ],
           [
            24,
            0,
            2,
            31,
            20,
            27,
            73,
            70,
            30,
            19,
            15,
            19,
            17,
            2,
            124,
            7,
            2,
            12,
            0,
            25
           ],
           [
            6,
            56,
            53,
            16,
            0,
            55,
            39,
            33,
            36,
            40,
            13,
            2,
            2,
            23,
            304,
            33,
            52,
            68,
            0,
            19
           ]
          ]
         },
         "header": {
          "align": "left",
          "fill": {
           "color": "paleturquoise"
          },
          "values": [
           "Fields",
           "Task",
           "SUS > 70 Negative",
           "SUS > 70 Positive",
           "SUS < 70 Negative",
           "SUS < 70 Positive"
          ]
         },
         "type": "table"
        }
       ],
       "layout": {
        "template": {
         "data": {
          "bar": [
           {
            "error_x": {
             "color": "#2a3f5f"
            },
            "error_y": {
             "color": "#2a3f5f"
            },
            "marker": {
             "line": {
              "color": "#E5ECF6",
              "width": 0.5
             },
             "pattern": {
              "fillmode": "overlay",
              "size": 10,
              "solidity": 0.2
             }
            },
            "type": "bar"
           }
          ],
          "barpolar": [
           {
            "marker": {
             "line": {
              "color": "#E5ECF6",
              "width": 0.5
             },
             "pattern": {
              "fillmode": "overlay",
              "size": 10,
              "solidity": 0.2
             }
            },
            "type": "barpolar"
           }
          ],
          "carpet": [
           {
            "aaxis": {
             "endlinecolor": "#2a3f5f",
             "gridcolor": "white",
             "linecolor": "white",
             "minorgridcolor": "white",
             "startlinecolor": "#2a3f5f"
            },
            "baxis": {
             "endlinecolor": "#2a3f5f",
             "gridcolor": "white",
             "linecolor": "white",
             "minorgridcolor": "white",
             "startlinecolor": "#2a3f5f"
            },
            "type": "carpet"
           }
          ],
          "choropleth": [
           {
            "colorbar": {
             "outlinewidth": 0,
             "ticks": ""
            },
            "type": "choropleth"
           }
          ],
          "contour": [
           {
            "colorbar": {
             "outlinewidth": 0,
             "ticks": ""
            },
            "colorscale": [
             [
              0,
              "#0d0887"
             ],
             [
              0.1111111111111111,
              "#46039f"
             ],
             [
              0.2222222222222222,
              "#7201a8"
             ],
             [
              0.3333333333333333,
              "#9c179e"
             ],
             [
              0.4444444444444444,
              "#bd3786"
             ],
             [
              0.5555555555555556,
              "#d8576b"
             ],
             [
              0.6666666666666666,
              "#ed7953"
             ],
             [
              0.7777777777777778,
              "#fb9f3a"
             ],
             [
              0.8888888888888888,
              "#fdca26"
             ],
             [
              1,
              "#f0f921"
             ]
            ],
            "type": "contour"
           }
          ],
          "contourcarpet": [
           {
            "colorbar": {
             "outlinewidth": 0,
             "ticks": ""
            },
            "type": "contourcarpet"
           }
          ],
          "heatmap": [
           {
            "colorbar": {
             "outlinewidth": 0,
             "ticks": ""
            },
            "colorscale": [
             [
              0,
              "#0d0887"
             ],
             [
              0.1111111111111111,
              "#46039f"
             ],
             [
              0.2222222222222222,
              "#7201a8"
             ],
             [
              0.3333333333333333,
              "#9c179e"
             ],
             [
              0.4444444444444444,
              "#bd3786"
             ],
             [
              0.5555555555555556,
              "#d8576b"
             ],
             [
              0.6666666666666666,
              "#ed7953"
             ],
             [
              0.7777777777777778,
              "#fb9f3a"
             ],
             [
              0.8888888888888888,
              "#fdca26"
             ],
             [
              1,
              "#f0f921"
             ]
            ],
            "type": "heatmap"
           }
          ],
          "heatmapgl": [
           {
            "colorbar": {
             "outlinewidth": 0,
             "ticks": ""
            },
            "colorscale": [
             [
              0,
              "#0d0887"
             ],
             [
              0.1111111111111111,
              "#46039f"
             ],
             [
              0.2222222222222222,
              "#7201a8"
             ],
             [
              0.3333333333333333,
              "#9c179e"
             ],
             [
              0.4444444444444444,
              "#bd3786"
             ],
             [
              0.5555555555555556,
              "#d8576b"
             ],
             [
              0.6666666666666666,
              "#ed7953"
             ],
             [
              0.7777777777777778,
              "#fb9f3a"
             ],
             [
              0.8888888888888888,
              "#fdca26"
             ],
             [
              1,
              "#f0f921"
             ]
            ],
            "type": "heatmapgl"
           }
          ],
          "histogram": [
           {
            "marker": {
             "pattern": {
              "fillmode": "overlay",
              "size": 10,
              "solidity": 0.2
             }
            },
            "type": "histogram"
           }
          ],
          "histogram2d": [
           {
            "colorbar": {
             "outlinewidth": 0,
             "ticks": ""
            },
            "colorscale": [
             [
              0,
              "#0d0887"
             ],
             [
              0.1111111111111111,
              "#46039f"
             ],
             [
              0.2222222222222222,
              "#7201a8"
             ],
             [
              0.3333333333333333,
              "#9c179e"
             ],
             [
              0.4444444444444444,
              "#bd3786"
             ],
             [
              0.5555555555555556,
              "#d8576b"
             ],
             [
              0.6666666666666666,
              "#ed7953"
             ],
             [
              0.7777777777777778,
              "#fb9f3a"
             ],
             [
              0.8888888888888888,
              "#fdca26"
             ],
             [
              1,
              "#f0f921"
             ]
            ],
            "type": "histogram2d"
           }
          ],
          "histogram2dcontour": [
           {
            "colorbar": {
             "outlinewidth": 0,
             "ticks": ""
            },
            "colorscale": [
             [
              0,
              "#0d0887"
             ],
             [
              0.1111111111111111,
              "#46039f"
             ],
             [
              0.2222222222222222,
              "#7201a8"
             ],
             [
              0.3333333333333333,
              "#9c179e"
             ],
             [
              0.4444444444444444,
              "#bd3786"
             ],
             [
              0.5555555555555556,
              "#d8576b"
             ],
             [
              0.6666666666666666,
              "#ed7953"
             ],
             [
              0.7777777777777778,
              "#fb9f3a"
             ],
             [
              0.8888888888888888,
              "#fdca26"
             ],
             [
              1,
              "#f0f921"
             ]
            ],
            "type": "histogram2dcontour"
           }
          ],
          "mesh3d": [
           {
            "colorbar": {
             "outlinewidth": 0,
             "ticks": ""
            },
            "type": "mesh3d"
           }
          ],
          "parcoords": [
           {
            "line": {
             "colorbar": {
              "outlinewidth": 0,
              "ticks": ""
             }
            },
            "type": "parcoords"
           }
          ],
          "pie": [
           {
            "automargin": true,
            "type": "pie"
           }
          ],
          "scatter": [
           {
            "fillpattern": {
             "fillmode": "overlay",
             "size": 10,
             "solidity": 0.2
            },
            "type": "scatter"
           }
          ],
          "scatter3d": [
           {
            "line": {
             "colorbar": {
              "outlinewidth": 0,
              "ticks": ""
             }
            },
            "marker": {
             "colorbar": {
              "outlinewidth": 0,
              "ticks": ""
             }
            },
            "type": "scatter3d"
           }
          ],
          "scattercarpet": [
           {
            "marker": {
             "colorbar": {
              "outlinewidth": 0,
              "ticks": ""
             }
            },
            "type": "scattercarpet"
           }
          ],
          "scattergeo": [
           {
            "marker": {
             "colorbar": {
              "outlinewidth": 0,
              "ticks": ""
             }
            },
            "type": "scattergeo"
           }
          ],
          "scattergl": [
           {
            "marker": {
             "colorbar": {
              "outlinewidth": 0,
              "ticks": ""
             }
            },
            "type": "scattergl"
           }
          ],
          "scattermapbox": [
           {
            "marker": {
             "colorbar": {
              "outlinewidth": 0,
              "ticks": ""
             }
            },
            "type": "scattermapbox"
           }
          ],
          "scatterpolar": [
           {
            "marker": {
             "colorbar": {
              "outlinewidth": 0,
              "ticks": ""
             }
            },
            "type": "scatterpolar"
           }
          ],
          "scatterpolargl": [
           {
            "marker": {
             "colorbar": {
              "outlinewidth": 0,
              "ticks": ""
             }
            },
            "type": "scatterpolargl"
           }
          ],
          "scatterternary": [
           {
            "marker": {
             "colorbar": {
              "outlinewidth": 0,
              "ticks": ""
             }
            },
            "type": "scatterternary"
           }
          ],
          "surface": [
           {
            "colorbar": {
             "outlinewidth": 0,
             "ticks": ""
            },
            "colorscale": [
             [
              0,
              "#0d0887"
             ],
             [
              0.1111111111111111,
              "#46039f"
             ],
             [
              0.2222222222222222,
              "#7201a8"
             ],
             [
              0.3333333333333333,
              "#9c179e"
             ],
             [
              0.4444444444444444,
              "#bd3786"
             ],
             [
              0.5555555555555556,
              "#d8576b"
             ],
             [
              0.6666666666666666,
              "#ed7953"
             ],
             [
              0.7777777777777778,
              "#fb9f3a"
             ],
             [
              0.8888888888888888,
              "#fdca26"
             ],
             [
              1,
              "#f0f921"
             ]
            ],
            "type": "surface"
           }
          ],
          "table": [
           {
            "cells": {
             "fill": {
              "color": "#EBF0F8"
             },
             "line": {
              "color": "white"
             }
            },
            "header": {
             "fill": {
              "color": "#C8D4E3"
             },
             "line": {
              "color": "white"
             }
            },
            "type": "table"
           }
          ]
         },
         "layout": {
          "annotationdefaults": {
           "arrowcolor": "#2a3f5f",
           "arrowhead": 0,
           "arrowwidth": 1
          },
          "autotypenumbers": "strict",
          "coloraxis": {
           "colorbar": {
            "outlinewidth": 0,
            "ticks": ""
           }
          },
          "colorscale": {
           "diverging": [
            [
             0,
             "#8e0152"
            ],
            [
             0.1,
             "#c51b7d"
            ],
            [
             0.2,
             "#de77ae"
            ],
            [
             0.3,
             "#f1b6da"
            ],
            [
             0.4,
             "#fde0ef"
            ],
            [
             0.5,
             "#f7f7f7"
            ],
            [
             0.6,
             "#e6f5d0"
            ],
            [
             0.7,
             "#b8e186"
            ],
            [
             0.8,
             "#7fbc41"
            ],
            [
             0.9,
             "#4d9221"
            ],
            [
             1,
             "#276419"
            ]
           ],
           "sequential": [
            [
             0,
             "#0d0887"
            ],
            [
             0.1111111111111111,
             "#46039f"
            ],
            [
             0.2222222222222222,
             "#7201a8"
            ],
            [
             0.3333333333333333,
             "#9c179e"
            ],
            [
             0.4444444444444444,
             "#bd3786"
            ],
            [
             0.5555555555555556,
             "#d8576b"
            ],
            [
             0.6666666666666666,
             "#ed7953"
            ],
            [
             0.7777777777777778,
             "#fb9f3a"
            ],
            [
             0.8888888888888888,
             "#fdca26"
            ],
            [
             1,
             "#f0f921"
            ]
           ],
           "sequentialminus": [
            [
             0,
             "#0d0887"
            ],
            [
             0.1111111111111111,
             "#46039f"
            ],
            [
             0.2222222222222222,
             "#7201a8"
            ],
            [
             0.3333333333333333,
             "#9c179e"
            ],
            [
             0.4444444444444444,
             "#bd3786"
            ],
            [
             0.5555555555555556,
             "#d8576b"
            ],
            [
             0.6666666666666666,
             "#ed7953"
            ],
            [
             0.7777777777777778,
             "#fb9f3a"
            ],
            [
             0.8888888888888888,
             "#fdca26"
            ],
            [
             1,
             "#f0f921"
            ]
           ]
          },
          "colorway": [
           "#636efa",
           "#EF553B",
           "#00cc96",
           "#ab63fa",
           "#FFA15A",
           "#19d3f3",
           "#FF6692",
           "#B6E880",
           "#FF97FF",
           "#FECB52"
          ],
          "font": {
           "color": "#2a3f5f"
          },
          "geo": {
           "bgcolor": "white",
           "lakecolor": "white",
           "landcolor": "#E5ECF6",
           "showlakes": true,
           "showland": true,
           "subunitcolor": "white"
          },
          "hoverlabel": {
           "align": "left"
          },
          "hovermode": "closest",
          "mapbox": {
           "style": "light"
          },
          "paper_bgcolor": "white",
          "plot_bgcolor": "#E5ECF6",
          "polar": {
           "angularaxis": {
            "gridcolor": "white",
            "linecolor": "white",
            "ticks": ""
           },
           "bgcolor": "#E5ECF6",
           "radialaxis": {
            "gridcolor": "white",
            "linecolor": "white",
            "ticks": ""
           }
          },
          "scene": {
           "xaxis": {
            "backgroundcolor": "#E5ECF6",
            "gridcolor": "white",
            "gridwidth": 2,
            "linecolor": "white",
            "showbackground": true,
            "ticks": "",
            "zerolinecolor": "white"
           },
           "yaxis": {
            "backgroundcolor": "#E5ECF6",
            "gridcolor": "white",
            "gridwidth": 2,
            "linecolor": "white",
            "showbackground": true,
            "ticks": "",
            "zerolinecolor": "white"
           },
           "zaxis": {
            "backgroundcolor": "#E5ECF6",
            "gridcolor": "white",
            "gridwidth": 2,
            "linecolor": "white",
            "showbackground": true,
            "ticks": "",
            "zerolinecolor": "white"
           }
          },
          "shapedefaults": {
           "line": {
            "color": "#2a3f5f"
           }
          },
          "ternary": {
           "aaxis": {
            "gridcolor": "white",
            "linecolor": "white",
            "ticks": ""
           },
           "baxis": {
            "gridcolor": "white",
            "linecolor": "white",
            "ticks": ""
           },
           "bgcolor": "#E5ECF6",
           "caxis": {
            "gridcolor": "white",
            "linecolor": "white",
            "ticks": ""
           }
          },
          "title": {
           "x": 0.05
          },
          "xaxis": {
           "automargin": true,
           "gridcolor": "white",
           "linecolor": "white",
           "ticks": "",
           "title": {
            "standoff": 15
           },
           "zerolinecolor": "white",
           "zerolinewidth": 2
          },
          "yaxis": {
           "automargin": true,
           "gridcolor": "white",
           "linecolor": "white",
           "ticks": "",
           "title": {
            "standoff": 15
           },
           "zerolinecolor": "white",
           "zerolinewidth": 2
          }
         }
        },
        "title": {
         "text": "Prediksi Kepuasan Pengguna (Lecturer)"
        }
       }
      }
     },
     "metadata": {},
     "output_type": "display_data"
    },
    {
     "data": {
      "application/vnd.plotly.v1+json": {
       "config": {
        "plotlyServerURL": "https://plot.ly"
       },
       "data": [
        {
         "cells": {
          "align": "left",
          "fill": {
           "color": "lavender"
          },
          "values": [
           [
            "Computer Science",
            "Computer Science",
            "Computer Science",
            "Computer Science",
            "Computer Science",
            "Menagement",
            "Menagement",
            "Menagement",
            "Menagement",
            "Menagement",
            "Engineering",
            "Engineering",
            "Engineering",
            "Engineering",
            "Engineering",
            "Accounting",
            "Accounting",
            "Accounting",
            "Accounting",
            "Accounting"
           ],
           [
            "task 1",
            "task 2",
            "task 3",
            "task 4",
            "task 5",
            "task 1",
            "task 2",
            "task 3",
            "task 4",
            "task 5",
            "task 1",
            "task 2",
            "task 3",
            "task 4",
            "task 5",
            "task 1",
            "task 2",
            "task 3",
            "task 4",
            "task 5"
           ],
           [
            362,
            346,
            346,
            314,
            153,
            0,
            1631,
            1243,
            1243,
            0,
            72,
            0,
            0,
            0,
            0,
            529,
            0,
            24,
            36,
            20
           ],
           [
            1346,
            1725,
            1225,
            1386,
            1572,
            3555,
            3600,
            4119,
            3179,
            3234,
            639,
            812,
            779,
            897,
            0,
            1354,
            1575,
            1852,
            2012,
            2128
           ],
           [
            743,
            584,
            628,
            712,
            894,
            1490,
            1410,
            1108,
            1109,
            1625,
            118,
            568,
            568,
            541,
            0,
            437,
            0,
            557,
            419,
            501
           ],
           [
            34,
            0,
            0,
            213,
            6,
            0,
            126,
            15,
            14,
            713,
            839,
            72,
            72,
            93,
            0,
            800,
            647,
            774,
            832,
            745
           ]
          ]
         },
         "header": {
          "align": "left",
          "fill": {
           "color": "paleturquoise"
          },
          "values": [
           "Fields",
           "Task",
           "SUS > 70 Negative",
           "SUS > 70 Positive",
           "SUS < 70 Negative",
           "SUS < 70 Positive"
          ]
         },
         "type": "table"
        }
       ],
       "layout": {
        "template": {
         "data": {
          "bar": [
           {
            "error_x": {
             "color": "#2a3f5f"
            },
            "error_y": {
             "color": "#2a3f5f"
            },
            "marker": {
             "line": {
              "color": "#E5ECF6",
              "width": 0.5
             },
             "pattern": {
              "fillmode": "overlay",
              "size": 10,
              "solidity": 0.2
             }
            },
            "type": "bar"
           }
          ],
          "barpolar": [
           {
            "marker": {
             "line": {
              "color": "#E5ECF6",
              "width": 0.5
             },
             "pattern": {
              "fillmode": "overlay",
              "size": 10,
              "solidity": 0.2
             }
            },
            "type": "barpolar"
           }
          ],
          "carpet": [
           {
            "aaxis": {
             "endlinecolor": "#2a3f5f",
             "gridcolor": "white",
             "linecolor": "white",
             "minorgridcolor": "white",
             "startlinecolor": "#2a3f5f"
            },
            "baxis": {
             "endlinecolor": "#2a3f5f",
             "gridcolor": "white",
             "linecolor": "white",
             "minorgridcolor": "white",
             "startlinecolor": "#2a3f5f"
            },
            "type": "carpet"
           }
          ],
          "choropleth": [
           {
            "colorbar": {
             "outlinewidth": 0,
             "ticks": ""
            },
            "type": "choropleth"
           }
          ],
          "contour": [
           {
            "colorbar": {
             "outlinewidth": 0,
             "ticks": ""
            },
            "colorscale": [
             [
              0,
              "#0d0887"
             ],
             [
              0.1111111111111111,
              "#46039f"
             ],
             [
              0.2222222222222222,
              "#7201a8"
             ],
             [
              0.3333333333333333,
              "#9c179e"
             ],
             [
              0.4444444444444444,
              "#bd3786"
             ],
             [
              0.5555555555555556,
              "#d8576b"
             ],
             [
              0.6666666666666666,
              "#ed7953"
             ],
             [
              0.7777777777777778,
              "#fb9f3a"
             ],
             [
              0.8888888888888888,
              "#fdca26"
             ],
             [
              1,
              "#f0f921"
             ]
            ],
            "type": "contour"
           }
          ],
          "contourcarpet": [
           {
            "colorbar": {
             "outlinewidth": 0,
             "ticks": ""
            },
            "type": "contourcarpet"
           }
          ],
          "heatmap": [
           {
            "colorbar": {
             "outlinewidth": 0,
             "ticks": ""
            },
            "colorscale": [
             [
              0,
              "#0d0887"
             ],
             [
              0.1111111111111111,
              "#46039f"
             ],
             [
              0.2222222222222222,
              "#7201a8"
             ],
             [
              0.3333333333333333,
              "#9c179e"
             ],
             [
              0.4444444444444444,
              "#bd3786"
             ],
             [
              0.5555555555555556,
              "#d8576b"
             ],
             [
              0.6666666666666666,
              "#ed7953"
             ],
             [
              0.7777777777777778,
              "#fb9f3a"
             ],
             [
              0.8888888888888888,
              "#fdca26"
             ],
             [
              1,
              "#f0f921"
             ]
            ],
            "type": "heatmap"
           }
          ],
          "heatmapgl": [
           {
            "colorbar": {
             "outlinewidth": 0,
             "ticks": ""
            },
            "colorscale": [
             [
              0,
              "#0d0887"
             ],
             [
              0.1111111111111111,
              "#46039f"
             ],
             [
              0.2222222222222222,
              "#7201a8"
             ],
             [
              0.3333333333333333,
              "#9c179e"
             ],
             [
              0.4444444444444444,
              "#bd3786"
             ],
             [
              0.5555555555555556,
              "#d8576b"
             ],
             [
              0.6666666666666666,
              "#ed7953"
             ],
             [
              0.7777777777777778,
              "#fb9f3a"
             ],
             [
              0.8888888888888888,
              "#fdca26"
             ],
             [
              1,
              "#f0f921"
             ]
            ],
            "type": "heatmapgl"
           }
          ],
          "histogram": [
           {
            "marker": {
             "pattern": {
              "fillmode": "overlay",
              "size": 10,
              "solidity": 0.2
             }
            },
            "type": "histogram"
           }
          ],
          "histogram2d": [
           {
            "colorbar": {
             "outlinewidth": 0,
             "ticks": ""
            },
            "colorscale": [
             [
              0,
              "#0d0887"
             ],
             [
              0.1111111111111111,
              "#46039f"
             ],
             [
              0.2222222222222222,
              "#7201a8"
             ],
             [
              0.3333333333333333,
              "#9c179e"
             ],
             [
              0.4444444444444444,
              "#bd3786"
             ],
             [
              0.5555555555555556,
              "#d8576b"
             ],
             [
              0.6666666666666666,
              "#ed7953"
             ],
             [
              0.7777777777777778,
              "#fb9f3a"
             ],
             [
              0.8888888888888888,
              "#fdca26"
             ],
             [
              1,
              "#f0f921"
             ]
            ],
            "type": "histogram2d"
           }
          ],
          "histogram2dcontour": [
           {
            "colorbar": {
             "outlinewidth": 0,
             "ticks": ""
            },
            "colorscale": [
             [
              0,
              "#0d0887"
             ],
             [
              0.1111111111111111,
              "#46039f"
             ],
             [
              0.2222222222222222,
              "#7201a8"
             ],
             [
              0.3333333333333333,
              "#9c179e"
             ],
             [
              0.4444444444444444,
              "#bd3786"
             ],
             [
              0.5555555555555556,
              "#d8576b"
             ],
             [
              0.6666666666666666,
              "#ed7953"
             ],
             [
              0.7777777777777778,
              "#fb9f3a"
             ],
             [
              0.8888888888888888,
              "#fdca26"
             ],
             [
              1,
              "#f0f921"
             ]
            ],
            "type": "histogram2dcontour"
           }
          ],
          "mesh3d": [
           {
            "colorbar": {
             "outlinewidth": 0,
             "ticks": ""
            },
            "type": "mesh3d"
           }
          ],
          "parcoords": [
           {
            "line": {
             "colorbar": {
              "outlinewidth": 0,
              "ticks": ""
             }
            },
            "type": "parcoords"
           }
          ],
          "pie": [
           {
            "automargin": true,
            "type": "pie"
           }
          ],
          "scatter": [
           {
            "fillpattern": {
             "fillmode": "overlay",
             "size": 10,
             "solidity": 0.2
            },
            "type": "scatter"
           }
          ],
          "scatter3d": [
           {
            "line": {
             "colorbar": {
              "outlinewidth": 0,
              "ticks": ""
             }
            },
            "marker": {
             "colorbar": {
              "outlinewidth": 0,
              "ticks": ""
             }
            },
            "type": "scatter3d"
           }
          ],
          "scattercarpet": [
           {
            "marker": {
             "colorbar": {
              "outlinewidth": 0,
              "ticks": ""
             }
            },
            "type": "scattercarpet"
           }
          ],
          "scattergeo": [
           {
            "marker": {
             "colorbar": {
              "outlinewidth": 0,
              "ticks": ""
             }
            },
            "type": "scattergeo"
           }
          ],
          "scattergl": [
           {
            "marker": {
             "colorbar": {
              "outlinewidth": 0,
              "ticks": ""
             }
            },
            "type": "scattergl"
           }
          ],
          "scattermapbox": [
           {
            "marker": {
             "colorbar": {
              "outlinewidth": 0,
              "ticks": ""
             }
            },
            "type": "scattermapbox"
           }
          ],
          "scatterpolar": [
           {
            "marker": {
             "colorbar": {
              "outlinewidth": 0,
              "ticks": ""
             }
            },
            "type": "scatterpolar"
           }
          ],
          "scatterpolargl": [
           {
            "marker": {
             "colorbar": {
              "outlinewidth": 0,
              "ticks": ""
             }
            },
            "type": "scatterpolargl"
           }
          ],
          "scatterternary": [
           {
            "marker": {
             "colorbar": {
              "outlinewidth": 0,
              "ticks": ""
             }
            },
            "type": "scatterternary"
           }
          ],
          "surface": [
           {
            "colorbar": {
             "outlinewidth": 0,
             "ticks": ""
            },
            "colorscale": [
             [
              0,
              "#0d0887"
             ],
             [
              0.1111111111111111,
              "#46039f"
             ],
             [
              0.2222222222222222,
              "#7201a8"
             ],
             [
              0.3333333333333333,
              "#9c179e"
             ],
             [
              0.4444444444444444,
              "#bd3786"
             ],
             [
              0.5555555555555556,
              "#d8576b"
             ],
             [
              0.6666666666666666,
              "#ed7953"
             ],
             [
              0.7777777777777778,
              "#fb9f3a"
             ],
             [
              0.8888888888888888,
              "#fdca26"
             ],
             [
              1,
              "#f0f921"
             ]
            ],
            "type": "surface"
           }
          ],
          "table": [
           {
            "cells": {
             "fill": {
              "color": "#EBF0F8"
             },
             "line": {
              "color": "white"
             }
            },
            "header": {
             "fill": {
              "color": "#C8D4E3"
             },
             "line": {
              "color": "white"
             }
            },
            "type": "table"
           }
          ]
         },
         "layout": {
          "annotationdefaults": {
           "arrowcolor": "#2a3f5f",
           "arrowhead": 0,
           "arrowwidth": 1
          },
          "autotypenumbers": "strict",
          "coloraxis": {
           "colorbar": {
            "outlinewidth": 0,
            "ticks": ""
           }
          },
          "colorscale": {
           "diverging": [
            [
             0,
             "#8e0152"
            ],
            [
             0.1,
             "#c51b7d"
            ],
            [
             0.2,
             "#de77ae"
            ],
            [
             0.3,
             "#f1b6da"
            ],
            [
             0.4,
             "#fde0ef"
            ],
            [
             0.5,
             "#f7f7f7"
            ],
            [
             0.6,
             "#e6f5d0"
            ],
            [
             0.7,
             "#b8e186"
            ],
            [
             0.8,
             "#7fbc41"
            ],
            [
             0.9,
             "#4d9221"
            ],
            [
             1,
             "#276419"
            ]
           ],
           "sequential": [
            [
             0,
             "#0d0887"
            ],
            [
             0.1111111111111111,
             "#46039f"
            ],
            [
             0.2222222222222222,
             "#7201a8"
            ],
            [
             0.3333333333333333,
             "#9c179e"
            ],
            [
             0.4444444444444444,
             "#bd3786"
            ],
            [
             0.5555555555555556,
             "#d8576b"
            ],
            [
             0.6666666666666666,
             "#ed7953"
            ],
            [
             0.7777777777777778,
             "#fb9f3a"
            ],
            [
             0.8888888888888888,
             "#fdca26"
            ],
            [
             1,
             "#f0f921"
            ]
           ],
           "sequentialminus": [
            [
             0,
             "#0d0887"
            ],
            [
             0.1111111111111111,
             "#46039f"
            ],
            [
             0.2222222222222222,
             "#7201a8"
            ],
            [
             0.3333333333333333,
             "#9c179e"
            ],
            [
             0.4444444444444444,
             "#bd3786"
            ],
            [
             0.5555555555555556,
             "#d8576b"
            ],
            [
             0.6666666666666666,
             "#ed7953"
            ],
            [
             0.7777777777777778,
             "#fb9f3a"
            ],
            [
             0.8888888888888888,
             "#fdca26"
            ],
            [
             1,
             "#f0f921"
            ]
           ]
          },
          "colorway": [
           "#636efa",
           "#EF553B",
           "#00cc96",
           "#ab63fa",
           "#FFA15A",
           "#19d3f3",
           "#FF6692",
           "#B6E880",
           "#FF97FF",
           "#FECB52"
          ],
          "font": {
           "color": "#2a3f5f"
          },
          "geo": {
           "bgcolor": "white",
           "lakecolor": "white",
           "landcolor": "#E5ECF6",
           "showlakes": true,
           "showland": true,
           "subunitcolor": "white"
          },
          "hoverlabel": {
           "align": "left"
          },
          "hovermode": "closest",
          "mapbox": {
           "style": "light"
          },
          "paper_bgcolor": "white",
          "plot_bgcolor": "#E5ECF6",
          "polar": {
           "angularaxis": {
            "gridcolor": "white",
            "linecolor": "white",
            "ticks": ""
           },
           "bgcolor": "#E5ECF6",
           "radialaxis": {
            "gridcolor": "white",
            "linecolor": "white",
            "ticks": ""
           }
          },
          "scene": {
           "xaxis": {
            "backgroundcolor": "#E5ECF6",
            "gridcolor": "white",
            "gridwidth": 2,
            "linecolor": "white",
            "showbackground": true,
            "ticks": "",
            "zerolinecolor": "white"
           },
           "yaxis": {
            "backgroundcolor": "#E5ECF6",
            "gridcolor": "white",
            "gridwidth": 2,
            "linecolor": "white",
            "showbackground": true,
            "ticks": "",
            "zerolinecolor": "white"
           },
           "zaxis": {
            "backgroundcolor": "#E5ECF6",
            "gridcolor": "white",
            "gridwidth": 2,
            "linecolor": "white",
            "showbackground": true,
            "ticks": "",
            "zerolinecolor": "white"
           }
          },
          "shapedefaults": {
           "line": {
            "color": "#2a3f5f"
           }
          },
          "ternary": {
           "aaxis": {
            "gridcolor": "white",
            "linecolor": "white",
            "ticks": ""
           },
           "baxis": {
            "gridcolor": "white",
            "linecolor": "white",
            "ticks": ""
           },
           "bgcolor": "#E5ECF6",
           "caxis": {
            "gridcolor": "white",
            "linecolor": "white",
            "ticks": ""
           }
          },
          "title": {
           "x": 0.05
          },
          "xaxis": {
           "automargin": true,
           "gridcolor": "white",
           "linecolor": "white",
           "ticks": "",
           "title": {
            "standoff": 15
           },
           "zerolinecolor": "white",
           "zerolinewidth": 2
          },
          "yaxis": {
           "automargin": true,
           "gridcolor": "white",
           "linecolor": "white",
           "ticks": "",
           "title": {
            "standoff": 15
           },
           "zerolinecolor": "white",
           "zerolinewidth": 2
          }
         }
        },
        "title": {
         "text": "Prediksi Kepuasan Pengguna (Student)"
        }
       }
      }
     },
     "metadata": {},
     "output_type": "display_data"
    }
   ],
   "source": [
    "import pandas as pd\n",
    "import numpy as np\n",
    "from sklearn.model_selection import train_test_split\n",
    "from sklearn.preprocessing import LabelEncoder, StandardScaler\n",
    "import tensorflow as tf\n",
    "from tensorflow.keras.models import Sequential\n",
    "from tensorflow.keras.layers import Conv1D, Flatten, Dense, Dropout, BatchNormalization\n",
    "from tensorflow.keras.callbacks import EarlyStopping\n",
    "import plotly.graph_objects as go\n",
    "import matplotlib.pyplot as plt\n",
    "\n",
    "# 1. Load Data\n",
    "df = pd.read_csv('Dataset_Quiz.csv', sep=';')\n",
    "\n",
    "# 2. Data Cleaning & Preprocessing\n",
    "for col in ['CR', 'TD', 'Lostness', 'SUS']:\n",
    "    df[col] = df[col].astype(str).str.replace(',', '.').astype(float)\n",
    "\n",
    "# Filter hanya class -1 dan 1\n",
    "df = df[df['Class'].isin([-1, 1])].reset_index(drop=True)\n",
    "\n",
    "# Encode categorical columns\n",
    "le_actor = LabelEncoder()\n",
    "le_task = LabelEncoder()\n",
    "le_fields = LabelEncoder()\n",
    "df['Actor_enc'] = le_actor.fit_transform(df['Actors'])\n",
    "df['Task_enc'] = le_task.fit_transform(df['Task Name'])\n",
    "df['Fields_enc'] = le_fields.fit_transform(df['Fields'])\n",
    "\n",
    "# Features and Target\n",
    "X = df[['Actor_enc', 'Task_enc', 'Fields_enc', 'CR', 'TD', 'Lostness', 'SUS']].values\n",
    "y = df['Class'].map({-1: 0, 1: 1}).values\n",
    "\n",
    "# Normalisasi fitur numerik\n",
    "scaler = StandardScaler()\n",
    "X[:, 3:] = scaler.fit_transform(X[:, 3:])\n",
    "\n",
    "# Reshape untuk CNN (samples, timesteps, features)\n",
    "X_cnn = X.reshape(X.shape[0], X.shape[1], 1)\n",
    "\n",
    "# 3. Split Data\n",
    "X_train, X_test, y_train, y_test = train_test_split(\n",
    "    X_cnn, y, test_size=0.2, random_state=42, stratify=y\n",
    ")\n",
    "\n",
    "# 4. Build CNN Model (improved)\n",
    "model = Sequential([\n",
    "    Conv1D(64, kernel_size=2, activation='relu', input_shape=(X.shape[1], 1)),\n",
    "    BatchNormalization(),\n",
    "    Dropout(0.3),\n",
    "    Conv1D(128, kernel_size=2, activation='relu'),\n",
    "    BatchNormalization(),\n",
    "    Dropout(0.3),\n",
    "    Flatten(),\n",
    "    Dense(128, activation='relu'),\n",
    "    Dropout(0.3),\n",
    "    Dense(1, activation='sigmoid')\n",
    "])\n",
    "model.compile(optimizer=tf.keras.optimizers.Adam(learning_rate=0.001),\n",
    "              loss='binary_crossentropy',\n",
    "              metrics=['accuracy'])\n",
    "\n",
    "# Early stopping\n",
    "early_stop = EarlyStopping(monitor='val_loss', patience=5, restore_best_weights=True)\n",
    "\n",
    "# 5. Train Model with validation\n",
    "history = model.fit(\n",
    "    X_train, y_train,\n",
    "    epochs=50,\n",
    "    batch_size=32,\n",
    "    validation_split=0.2,\n",
    "    callbacks=[early_stop],\n",
    "    verbose=1\n",
    ")\n",
    "\n",
    "# 6. Visualisasi Training & Validation Curve\n",
    "plt.figure(figsize=(12, 5))\n",
    "\n",
    "plt.subplot(1, 2, 1)\n",
    "plt.plot(history.history['accuracy'], label='Train Accuracy')\n",
    "plt.plot(history.history['val_accuracy'], label='Validation Accuracy')\n",
    "plt.title('Model Accuracy')\n",
    "plt.xlabel('Epoch')\n",
    "plt.ylabel('Accuracy')\n",
    "plt.legend()\n",
    "\n",
    "plt.subplot(1, 2, 2)\n",
    "plt.plot(history.history['loss'], label='Train Loss')\n",
    "plt.plot(history.history['val_loss'], label='Validation Loss')\n",
    "plt.title('Model Loss')\n",
    "plt.xlabel('Epoch')\n",
    "plt.ylabel('Loss')\n",
    "plt.legend()\n",
    "\n",
    "plt.tight_layout()\n",
    "plt.show()\n",
    "\n",
    "# 7. Predict on All Data\n",
    "y_pred = (model.predict(X_cnn) > 0.5).astype(int).flatten()\n",
    "y_pred = pd.Series(y_pred).map({0: -1, 1: 1}).values\n",
    "\n",
    "df['Predicted'] = y_pred\n",
    "\n",
    "# 8. Buat kolom SUS > 70 dan SUS < 70\n",
    "df['SUS_group'] = np.where(df['SUS'] > 70, 'SUS>70', 'SUS<70')\n",
    "\n",
    "# 9. Mapping task name ke urutan\n",
    "task_map = {\n",
    "    'Task-1': 'task 1',\n",
    "    'Task-2': 'task 2',\n",
    "    'Task-3': 'task 3',\n",
    "    'Task-4': 'task 4',\n",
    "    'Task-5': 'task 5'\n",
    "}\n",
    "df['Task_label'] = df['Task Name'].map(task_map)\n",
    "\n",
    "# 10. Mapping departemen\n",
    "fields_map = {\n",
    "    'CS': 'Computer Science',\n",
    "    'Mn': 'Menagement',\n",
    "    'En': 'Engineering',\n",
    "    'Ac': 'Accounting'\n",
    "}\n",
    "df['Fields_label'] = df['Fields'].map(fields_map)\n",
    "\n",
    "# 11. Fungsi untuk summary tabel\n",
    "def summary_table(actor):\n",
    "    result = []\n",
    "    for field in ['Computer Science', 'Menagement', 'Engineering', 'Accounting']:\n",
    "        for task in ['task 1', 'task 2', 'task 3', 'task 4', 'task 5']:\n",
    "            for sus_group in ['SUS>70', 'SUS<70']:\n",
    "                for polarity in [-1, 1]:  # Negative, Positive\n",
    "                    count = df[\n",
    "                        (df['Actors'] == actor) &\n",
    "                        (df['Fields_label'] == field) &\n",
    "                        (df['Task_label'] == task) &\n",
    "                        (df['SUS_group'] == sus_group) &\n",
    "                        (df['Predicted'] == polarity)\n",
    "                    ].shape[0]\n",
    "                    result.append({\n",
    "                        'Fields': field,\n",
    "                        'Task': task,\n",
    "                        'SUS_group': sus_group,\n",
    "                        'Polarity': 'Negative' if polarity == -1 else 'Positive',\n",
    "                        'Count': count\n",
    "                    })\n",
    "    return pd.DataFrame(result)\n",
    "\n",
    "summary_lecturer = summary_table('Lecturer')\n",
    "summary_student = summary_table('Student')\n",
    "\n",
    "def plot_table(summary_df, actor):\n",
    "    header = ['Fields', 'Task', 'SUS > 70 Negative', 'SUS > 70 Positive', 'SUS < 70 Negative', 'SUS < 70 Positive']\n",
    "    rows = []\n",
    "    for field in ['Computer Science', 'Menagement', 'Engineering', 'Accounting']:\n",
    "        for task in ['task 1', 'task 2', 'task 3', 'task 4', 'task 5']:\n",
    "            row = [field, task]\n",
    "            for sus_group in ['SUS>70', 'SUS<70']:\n",
    "                for polarity in ['Negative', 'Positive']:\n",
    "                    val = summary_df[\n",
    "                        (summary_df['Fields'] == field) &\n",
    "                        (summary_df['Task'] == task) &\n",
    "                        (summary_df['SUS_group'] == sus_group) &\n",
    "                        (summary_df['Polarity'] == polarity)\n",
    "                    ]['Count'].values\n",
    "                    row.append(int(val[0]) if len(val) > 0 else 0)\n",
    "            rows.append(row)\n",
    "    fig = go.Figure(data=[go.Table(\n",
    "        header=dict(values=header, fill_color='paleturquoise', align='left'),\n",
    "        cells=dict(values=list(zip(*rows)), fill_color='lavender', align='left'))\n",
    "    ])\n",
    "    fig.update_layout(title=f'Prediksi Kepuasan Pengguna ({actor})')\n",
    "    fig.show()\n",
    "\n",
    "def plot_class_distribution(df):\n",
    "    true_counts = df[df['Class'].isin([-1, 1])]['Class'].map({-1: 'Negative', 1: 'Positive'}).value_counts().sort_index()\n",
    "    pred_counts = pd.Series(df[df['Predicted'].isin([-1, 1])]['Predicted']).map({-1: 'Negative', 1: 'Positive'}).value_counts().sort_index()\n",
    "    fig = go.Figure(data=[\n",
    "        go.Bar(name='True', x=true_counts.index, y=true_counts.values, marker_color='royalblue'),\n",
    "        go.Bar(name='Predicted', x=pred_counts.index, y=pred_counts.values, marker_color='orange')\n",
    "    ])\n",
    "    fig.update_layout(\n",
    "        barmode='group',\n",
    "        title='Distribusi Kelas Gabungan (True vs Predicted) [Negative & Positive Only]',\n",
    "        xaxis_title='Class',\n",
    "        yaxis_title='Count'\n",
    "    )\n",
    "    fig.show()\n",
    "\n",
    "plot_class_distribution(df)\n",
    "plot_table(summary_lecturer, 'Lecturer')\n",
    "plot_table(summary_student, 'Student')"
   ]
  },
  {
   "cell_type": "markdown",
   "id": "abb07828",
   "metadata": {},
   "source": [
    "# EVALUASI MODEL"
   ]
  },
  {
   "cell_type": "code",
   "execution_count": 32,
   "id": "0cc84e1f",
   "metadata": {},
   "outputs": [
    {
     "name": "stdout",
     "output_type": "stream",
     "text": [
      "\u001b[1m419/419\u001b[0m \u001b[32m━━━━━━━━━━━━━━━━━━━━\u001b[0m\u001b[37m\u001b[0m \u001b[1m0s\u001b[0m 862us/step\n",
      "Classification Report:\n",
      "               precision    recall  f1-score   support\n",
      "\n",
      "Negative (-1)       0.90      0.81      0.85      4695\n",
      " Positive (1)       0.90      0.95      0.93      8698\n",
      "\n",
      "     accuracy                           0.90     13393\n",
      "    macro avg       0.90      0.88      0.89     13393\n",
      " weighted avg       0.90      0.90      0.90     13393\n",
      "\n"
     ]
    },
    {
     "data": {
      "image/png": "[encoded data removed]",
      "text/plain": [
       "<Figure size 500x400 with 2 Axes>"
      ]
     },
     "metadata": {},
     "output_type": "display_data"
    },
    {
     "data": {
      "image/png": "[encoded data removed]",
      "text/plain": [
       "<Figure size 600x500 with 1 Axes>"
      ]
     },
     "metadata": {},
     "output_type": "display_data"
    }
   ],
   "source": [
    "from sklearn.metrics import classification_report, confusion_matrix, roc_curve, auc\n",
    "import seaborn as sns\n",
    "\n",
    "# Prediksi probabilitas dan kelas pada data test\n",
    "y_test_pred_prob = model.predict(X_test)\n",
    "y_test_pred = (y_test_pred_prob > 0.5).astype(int).flatten()\n",
    "\n",
    "# 1. Classification Report\n",
    "print(\"Classification Report:\")\n",
    "target_names = ['Negative (-1)', 'Positive (1)']\n",
    "print(classification_report(y_test, y_test_pred, target_names=target_names))\n",
    "\n",
    "# 2. Confusion Matrix Heatmap\n",
    "cm = confusion_matrix(y_test, y_test_pred)\n",
    "plt.figure(figsize=(5,4))\n",
    "sns.heatmap(cm, annot=True, fmt='d', cmap='Blues', xticklabels=target_names, yticklabels=target_names)\n",
    "plt.xlabel('Predicted Label')\n",
    "plt.ylabel('True Label')\n",
    "plt.title('Confusion Matrix')\n",
    "plt.show()\n",
    "\n",
    "# 3. ROC AUC Curve\n",
    "fpr, tpr, thresholds = roc_curve(y_test, y_test_pred_prob)\n",
    "roc_auc = auc(fpr, tpr)\n",
    "plt.figure(figsize=(6,5))\n",
    "plt.plot(fpr, tpr, label=f'AUC = {roc_auc:.2f}')\n",
    "plt.plot([0,1], [0,1], 'k--')\n",
    "plt.xlabel('False Positive Rate')\n",
    "plt.ylabel('True Positive Rate')\n",
    "plt.title('ROC Curve')\n",
    "plt.legend(loc='lower right')\n",
    "plt.show()\n",
    "# ...existing code..."
   ]
  },
  {
   "cell_type": "markdown",
   "id": "aade8830",
   "metadata": {},
   "source": [
    "### Analisis Mendalam Program CNN untuk Prediksi Kepuasan Pengguna\n",
    "\n",
    "Notebook ini menyajikan implementasi lengkap Convolutional Neural Network (CNN) untuk klasifikasi kepuasan pengguna. Tujuan utamanya adalah untuk `CREATE ARSITEKTURE & TRAINING MODEL CNN`, yang berarti membangun dan melatih model CNN. Program ini secara khusus menargetkan prediksi kepuasan pengguna (dilambangkan dengan `Class` -1 dan 1) dan menyajikan analisis granular berdasarkan aktor (`Lecturer`, `Student`), `Fields`, dan `Task Name`.\n",
    "\n",
    "#### 1. Pra-pemrosesan Data\n",
    "\n",
    "* **Pemuatan Data:** Dataset `Dataset_Quiz.csv` dimuat menggunakan `pd.read_csv('Dataset_Quiz.csv', sep=';')`. Penggunaan `sep=';'` sangat penting karena menunjukkan bahwa data dipisahkan oleh titik koma, bukan koma default, yang merupakan praktik umum dalam format CSV internasional.\n",
    "* **Pembersihan Data:**\n",
    "    * Kolom `CR`, `TD`, `Lostness`, dan `SUS` diubah menjadi tipe `float`. Langkah penting di sini adalah `str.replace(',', '.')` yang mengganti koma dengan titik untuk memastikan konversi numerik yang benar, karena beberapa lokal menggunakan koma sebagai pemisah desimal.\n",
    "    * Dataset kemudian difilter untuk hanya menyertakan baris di mana `Class` bernilai -1 atau 1. Ini memastikan bahwa hanya data yang relevan untuk klasifikasi biner yang digunakan untuk pelatihan.\n",
    "* **Encoding Fitur Kategorikal:** Kolom kategorikal seperti `Actors`, `Task Name`, dan `Fields` diubah menjadi representasi numerik menggunakan `LabelEncoder` dari Scikit-learn. Ini adalah prasyarat untuk sebagian besar model *machine learning*, termasuk jaringan saraf.\n",
    "* **Definisi Fitur dan Target:** Fitur (`X`) didefinisikan sebagai kombinasi dari fitur yang dienkode (`Actor_enc`, `Task_enc`, `Fields_enc`) dan fitur numerik yang sudah dibersihkan (`CR`, `TD`, `Lostness`, `SUS`). Variabel target (`y`) adalah kolom `Class`, yang dipetakan ulang dari -1 ke 0 dan 1 ke 1. Pemetaan ini diperlukan karena `sigmoid` pada lapisan *output* CNN biasanya mengembalikan nilai antara 0 dan 1.\n",
    "* **Normalisasi Data:** Fitur numerik (`X[:, 3:]`) distandarisasi menggunakan `StandardScaler`. Normalisasi sangat penting untuk jaringan saraf karena membantu mempercepat konvergensi selama pelatihan dan mencegah fitur dengan skala nilai yang lebih besar mendominasi proses pembelajaran.\n",
    "* **Reshaping untuk CNN:** Data diubah menjadi format 3D (`(samples, timesteps, features)`) yang diperlukan oleh `Conv1D`. Dalam kasus ini, `timesteps` adalah jumlah fitur, dan `features` adalah 1, mengindikasikan bahwa setiap fitur diperlakukan sebagai 'langkah waktu' atau saluran terpisah untuk konvolusi 1D.\n",
    "\n",
    "#### 2. Arsitektur Model CNN\n",
    "\n",
    "Model ini dibangun menggunakan `tf.keras.models.Sequential`, yang merupakan tumpukan linear lapisan-lapisan:\n",
    "* **`Conv1D(64, kernel_size=2, activation='relu', input_shape=(X.shape[1], 1))`**: Lapisan konvolusional 1D pertama dengan 64 filter dan ukuran kernel 2. Fungsi aktivasi ReLU digunakan untuk memperkenalkan non-linearitas. `input_shape` ditentukan dengan benar berdasarkan jumlah fitur dan satu saluran.\n",
    "* **`BatchNormalization()`**: Lapisan ini menormalkan aktivasi dari lapisan sebelumnya, yang membantu menstabilkan dan mempercepat proses pelatihan dengan mengurangi *internal covariate shift*.\n",
    "* **`Dropout(0.3)`**: Lapisan *dropout* ini secara acak mengatur 30% unit input menjadi nol selama pelatihan. Ini adalah teknik regularisasi yang efektif untuk mencegah *overfitting* dengan memaksa jaringan untuk mempelajari fitur-fitur yang lebih kuat.\n",
    "* **`Conv1D(128, kernel_size=2, activation='relu')`**: Lapisan konvolusional 1D kedua dengan 128 filter, memungkinkan model untuk menangkap pola yang lebih kompleks.\n",
    "* **`BatchNormalization()` dan `Dropout(0.3)`**: Pasangan lapisan ini diulang untuk memberikan normalisasi dan regularisasi lebih lanjut.\n",
    "* **`Flatten()`**: Lapisan ini meratakan *output* dari lapisan konvolusional menjadi vektor 1D, menyiapkannya untuk lapisan `Dense`.\n",
    "* **`Dense(128, activation='relu')`**: Lapisan terhubung penuh (dense) dengan 128 neuron dan aktivasi ReLU. Lapisan ini mempelajari kombinasi fitur tingkat tinggi.\n",
    "* **`Dropout(0.3)`**: Lapisan *dropout* terakhir sebelum lapisan *output* untuk regularisasi tambahan.\n",
    "* **`Dense(1, activation='sigmoid')`**: Lapisan *output* dengan satu neuron dan fungsi aktivasi Sigmoid. Ini sangat cocok untuk klasifikasi biner, menghasilkan probabilitas antara 0 dan 1.\n",
    "\n",
    "Model dikompilasi dengan:\n",
    "* **`optimizer=tf.keras.optimizers.Adam(learning_rate=0.001)`**: Adam adalah pengoptimal tingkat pembelajaran adaptif yang dikenal karena efisiensinya dan kinerja yang baik.\n",
    "* **`loss='binary_crossentropy'`**: Ini adalah fungsi *loss* standar untuk masalah klasifikasi biner.\n",
    "* **`metrics=['accuracy']`**: Akurasi digunakan sebagai metrik evaluasi selama pelatihan.\n",
    "\n",
    "#### 3. Proses Pelatihan\n",
    "\n",
    "* **Pembagian Data:** Data dibagi menjadi set pelatihan dan pengujian menggunakan `train_test_split` dengan `test_size=0.2` (20% untuk pengujian) dan `random_state=42` untuk reproduktif. `stratify=y` digunakan untuk memastikan bahwa proporsi kelas dalam set pelatihan dan pengujian sama dengan proporsi kelas asli.\n",
    "* **`EarlyStopping`:** Callback `EarlyStopping` dikonfigurasi untuk memantau `val_loss` (loss validasi) dengan `patience=5`. Ini berarti pelatihan akan berhenti jika *loss* validasi tidak membaik selama 5 *epoch* berturut-turut, dan bobot model terbaik akan dikembalikan. Ini adalah teknik yang sangat efektif untuk mencegah *overfitting* dan menghemat waktu pelatihan.\n",
    "* **Pelatihan Model:** Model dilatih menggunakan `model.fit` selama 50 *epoch* dengan `batch_size=32`. `validation_split=0.2` berarti 20% dari data pelatihan digunakan untuk validasi selama setiap *epoch*.\n",
    "\n",
    "---\n",
    "\n",
    "### Analisis Output Model\n",
    "\n",
    "#### 1. Hasil Pelatihan Model (Epoch 1/50 hingga Epoch 35/50)\n",
    "\n",
    "```\n",
    "Epoch 1/50\n",
    "1340/1340 ━━━━━━━━━━━━━━━━━━━━ 5s 3ms/step - accuracy: 0.7993 - loss: 0.4000 - val_accuracy: 0.8779 - val_loss: 0.2834\n",
    "Epoch 2/50\n",
    "1340/1340 ━━━━━━━━━━━━━━━━━━━━ 3s 3ms/step - accuracy: 0.8671 - loss: 0.3036 - val_accuracy: 0.8734 - val_loss: 0.2637\n",
    "...\n",
    "Epoch 35/50\n",
    "1340/1340 ━━━━━━━━━━━━━━━━━━━━ 3s 2ms/step - accuracy: 0.8971 - loss: 0.2412 - val_accuracy: 0.8967 - val_loss: 0.2304\n",
    "```\n",
    "\n",
    "**Pembahasan:**\n",
    "*Output* ini menampilkan log pelatihan model untuk setiap *epoch*, menunjukkan akurasi dan *loss* pada data pelatihan dan validasi. Pada *epoch* 1, akurasi pelatihan dimulai dari 0.7993 dan akurasi validasi 0.8779, dengan *loss* masing-masing 0.4000 dan 0.2834. Seiring berjalannya *epoch*, akurasi pelatihan dan validasi umumnya meningkat, sementara *loss* pelatihan dan validasi menurun. Pada *epoch* 35, akurasi pelatihan mencapai 0.8971 dan akurasi validasi 0.8967, dengan *loss* masing-masing 0.2412 dan 0.2304.\n",
    "\n",
    "**Insight:**\n",
    "1.  **Konvergensi Model:** Model menunjukkan konvergensi yang stabil karena akurasi pelatihan dan validasi keduanya meningkat secara konsisten, sementara *loss* keduanya menurun.\n",
    "2.  **Generalisasi yang Baik:** Akurasi validasi mengikuti akurasi pelatihan dengan sangat dekat dan bahkan kadang-kadang sedikit lebih tinggi di awal, menunjukkan bahwa model tidak *overfit* pada data pelatihan dan mampu menggeneralisasi dengan baik ke data yang tidak terlihat.\n",
    "3.  **Efektivitas *EarlyStopping*:** Penurunan *loss* validasi melambat dan hampir stagnan di *epoch* terakhir yang ditampilkan. Ini menyiratkan bahwa *early stopping* (dengan *patience* 5) kemungkinan besar menghentikan pelatihan pada titik ini (atau beberapa *epoch* setelahnya) jika tidak ada perbaikan signifikan lagi pada *val_loss*, yang merupakan praktik terbaik untuk mencegah *overfitting* lebih lanjut dan menghemat sumber daya komputasi.\n",
    "\n",
    "#### 2. Plot Kurva Pelatihan dan Validasi\n",
    "\n",
    "**Pembahasan:**\n",
    "Plot ini secara visual mengkonfirmasi tren yang terlihat pada log pelatihan. Plot \"Model Accuracy\" akan menunjukkan garis akurasi pelatihan dan validasi yang naik dan cenderung datar pada nilai tinggi. Plot \"Model Loss\" akan menunjukkan garis *loss* pelatihan dan validasi yang turun dan cenderung datar pada nilai rendah. Kedua kurva pelatihan dan validasi akan bergerak sejajar, menunjukkan stabilitas.\n",
    "\n",
    "**Insight:**\n",
    "1.  **Konfirmasi Konvergensi dan Regularisasi:** Plot ini secara visual mengkonfirmasi bahwa model telah belajar secara efektif dan bahwa teknik regularisasi (dropout, batch normalization, *early stopping*) bekerja dengan baik untuk mencegah *overfitting*. Tidak adanya kesenjangan yang besar antara kurva pelatihan dan validasi menandakan bahwa model bergeneralisasi dengan baik.\n",
    "2.  **Stabilitas Pelatihan:** Kurva yang mulus menunjukkan bahwa proses pelatihan stabil dan tidak ada fluktuasi besar yang mungkin mengindikasikan masalah dengan *learning rate* atau ukuran *batch*.\n",
    "\n",
    "#### 3. Output Konsol Prediksi pada Data Keseluruhan\n",
    "\n",
    "```\n",
    "2093/2093 ━━━━━━━━━━━━━━━━━━━━ 2s 798us/step\n",
    "```\n",
    "\n",
    "**Pembahasan:**\n",
    "Ini menunjukkan bahwa model telah menyelesaikan prediksi pada seluruh *dataset* (yang dibagi menjadi 2093 *batch*) dalam waktu sekitar 2 detik.\n",
    "\n",
    "**Insight:**\n",
    "1.  **Efisiensi Inferensi:** Waktu prediksi yang cepat menunjukkan bahwa model sangat efisien untuk digunakan dalam aplikasi dunia nyata di mana kecepatan inferensi bisa menjadi faktor krusial.\n",
    "\n",
    "#### 4. Plot Distribusi Kelas Gabungan (True vs Predicted)\n",
    "\n",
    "**Pembahasan:**\n",
    "Diagram batang ini membandingkan distribusi aktual kelas 'Negative' (-1) dan 'Positive' (1) dengan distribusi yang diprediksi oleh model.\n",
    "* **Kelas Aktual (`True`):** Negative: 23473, Positive: 43488.\n",
    "* **Kelas Diprediksi (`Predicted`):** Negative: 21105, Positive: 45856.\n",
    "\n",
    "**Insight:**\n",
    "1.  **Ketidakseimbangan Kelas:** Terlihat jelas adanya ketidakseimbangan kelas dalam *dataset*, di mana kelas 'Positive' jauh lebih dominan daripada 'Negative' (sekitar dua kali lipat). Ini adalah hal penting untuk dipertimbangkan saat mengevaluasi model, karena akurasi sederhana bisa menyesatkan pada data yang tidak seimbang.\n",
    "2.  **Bias Prediksi Menuju Mayoritas:** Model cenderung sedikit *over-predict* kelas 'Positive' (45856 prediksi vs 43488 aktual) dan *under-predict* kelas 'Negative' (21105 prediksi vs 23473 aktual). Ini adalah efek umum pada dataset yang tidak seimbang, di mana model cenderung lebih baik dalam memprediksi kelas mayoritas.\n",
    "\n",
    "#### 5. Tabel Prediksi Kepuasan Pengguna (Lecturer)\n",
    "\n",
    "**Pembahasan:**\n",
    "Tabel ini menyajikan ringkasan prediksi kepuasan pengguna untuk kategori 'Lecturer' (dosen), dibagi berdasarkan `Fields`, `Task`, kelompok `SUS_group` (`SUS > 70` dan `SUS < 70`), dan `Polarity` (Negative/Positive). Setiap sel menunjukkan jumlah dosen yang sesuai dengan kriteria tersebut.\n",
    "\n",
    "**Insight:**\n",
    "1.  **Wawasan Granular:** Tabel ini adalah salah satu *output* paling berharga karena memberikan wawasan yang sangat rinci mengenai kepuasan pengguna di berbagai konteks.\n",
    "2.  **Anomali Menarik (Potensi *False Negative* atau Masalah Data):**\n",
    "    * Untuk `Computer Science - task 2`, ada 26 prediksi 'Negative' untuk dosen dengan `SUS > 70`. Secara intuitif, `SUS > 70` menunjukkan kepuasan tinggi. Prediksi 'Negative' di sini bisa menjadi *false negative* (model salah memprediksi ketidakpuasan) atau mengindikasikan adanya masalah *usability* yang tidak terwakili oleh skor SUS saja (misalnya, kesulitan teknis yang tidak dilaporkan, frustrasi yang tinggi meskipun sistem dianggap \"usable\"). Ini adalah area yang memerlukan penyelidikan kualitatif lebih lanjut.\n",
    "    * Untuk `Engineering - task 4`, ada 23 prediksi 'Positive' untuk `SUS < 70`, dan 0 untuk `SUS > 70`. Ini bisa berarti bahwa dosen di bidang Teknik yang mengerjakan `task 4` cenderung tidak puas secara objektif, namun model memprediksi positif bahkan untuk yang SUSnya rendah. Hal ini perlu diperiksa lebih lanjut, apakah ada data yang salah atau interpretasi yang melenceng.\n",
    "3.  **Area Sukses (Dosen):**\n",
    "    * `Menagement - task 1` dan `task 5` menunjukkan jumlah prediksi 'Positive' yang cukup tinggi untuk `SUS > 70` (104 dan 124).\n",
    "    * `Engineering - task 5` menunjukkan jumlah prediksi 'Positive' yang sangat tinggi (1117) untuk `SUS > 70`. Ini bisa menjadi contoh *best practice* yang berhasil dan dapat dipelajari serta diterapkan di bidang atau tugas lain.\n",
    "\n",
    "#### 6. Tabel Prediksi Kepuasan Pengguna (Student)\n",
    "\n",
    "**Pembahasan:**\n",
    "Tabel ini memberikan rincian prediksi yang serupa untuk kategori 'Student' (mahasiswa).\n",
    "\n",
    "**Insight:**\n",
    "1.  **Area Masalah (Mahasiswa):**\n",
    "    * `Computer Science` pada `task 1, 2, 3, 4` memiliki jumlah prediksi 'Negative' yang signifikan untuk `SUS > 70` (362, 346, 346, 314). Mirip dengan dosen, ini menunjukkan potensi masalah *usability* yang tidak sepenuhnya terwakili oleh skor SUS subjektif, atau adanya faktor lain yang menyebabkan model memprediksi ketidakpuasan meskipun skor SUS tinggi. Area ini harus menjadi fokus perbaikan.\n",
    "    * Untuk `Management - task 1` dan `task 5`, ada 0 prediksi untuk `SUS > 70`, baik 'Negative' maupun 'Positive'. Ini juga aneh dan mungkin menunjukkan data yang kurang lengkap untuk kombinasi ini atau masalah dalam pengelompokan.\n",
    "2.  **Area Sukses (Mahasiswa):**\n",
    "    * `Management - task 2, 3, 4` menunjukkan jumlah prediksi 'Positive' yang sangat tinggi untuk `SUS > 70` (3600, 4119, 3179). Ini mengindikasikan bahwa mahasiswa Manajemen secara umum sangat puas dengan tugas-tugas ini, menjadikannya contoh sukses.\n",
    "    * `Accounting - task 5` juga menunjukkan jumlah prediksi 'Positive' yang sangat tinggi (2128) untuk `SUS > 70`.\n",
    "\n",
    "3.  **Perbandingan Lintas Aktor:** Dengan membandingkan tabel dosen dan mahasiswa, Anda dapat mengidentifikasi perbedaan dan kesamaan dalam pola kepuasan. Misalnya, `Computer Science` tampaknya menjadi area dengan tantangan kepuasan yang konsisten untuk kedua jenis pengguna, sementara `Management` dan `Engineering` memiliki pola yang lebih bervariasi.\n",
    "\n",
    "---\n",
    "\n",
    "### Analisis Evaluasi Model\n",
    "\n",
    "#### 1. Classification Report (Test Data)\n",
    "\n",
    "```\n",
    "               precision    recall  f1-score   support\n",
    "\n",
    "Negative (-1)       0.90      0.81      0.85      4695\n",
    " Positive (1)       0.90      0.95      0.93      8698\n",
    "\n",
    "     accuracy                           0.90     13393\n",
    "    macro avg       0.90      0.88      0.89     13393\n",
    " weighted avg       0.90      0.90      0.90     13393\n",
    "```\n",
    "\n",
    "**Pembahasan:**\n",
    "Laporan klasifikasi ini memberikan metrik kinerja terperinci pada data pengujian yang belum terlihat.\n",
    "* **Precision:** Proporsi prediksi positif yang benar-benar positif.\n",
    "* **Recall:** Proporsi kasus positif aktual yang diidentifikasi dengan benar oleh model.\n",
    "* **F1-score:** Rata-rata harmonik dari presisi dan *recall*, memberikan keseimbangan antara keduanya.\n",
    "* **Support:** Jumlah sampel aktual untuk setiap kelas dalam set pengujian.\n",
    "* **Accuracy:** Akurasi keseluruhan model, yaitu proporsi total prediksi yang benar.\n",
    "* **Macro Avg:** Rata-rata metrik (presisi, *recall*, F1-score) dihitung untuk setiap kelas secara terpisah, lalu dirata-ratakan, tanpa memperhitungkan ketidakseimbangan kelas.\n",
    "* **Weighted Avg:** Rata-rata metrik dengan bobot berdasarkan jumlah sampel di setiap kelas.\n",
    "\n",
    "**Insight:**\n",
    "1.  **Akurasi Keseluruhan yang Kuat:** Akurasi model 90% menunjukkan bahwa model secara keseluruhan sangat baik dalam mengklasifikasikan kepuasan pengguna.\n",
    "2.  **Kinerja Kelas Mayoritas (Positive) yang Sangat Baik:**\n",
    "    * *Recall* 0.95 untuk kelas 'Positive' sangat tinggi. Ini berarti model berhasil mengidentifikasi 95% dari semua kasus kepuasan positif yang sebenarnya. Ini sangat baik jika prioritasnya adalah tidak melewatkan pengguna yang puas.\n",
    "    * Presisi 0.90 untuk kelas 'Positive' juga sangat baik, mengindikasikan bahwa ketika model memprediksi 'Positive', 90% dari prediksi tersebut benar.\n",
    "3.  **Kinerja Kelas Minoritas (Negative) yang Baik:**\n",
    "    * Presisi 0.90 untuk kelas 'Negative' juga kuat.\n",
    "    * *Recall* 0.81 untuk kelas 'Negative' cukup baik, meskipun sedikit lebih rendah dari kelas 'Positive'. Ini menunjukkan bahwa model berhasil mengidentifikasi 81% dari semua kasus ketidakpuasan yang sebenarnya. Ada ruang untuk sedikit perbaikan jika mengidentifikasi setiap kasus ketidakpuasan adalah prioritas utama (misalnya, untuk intervensi).\n",
    "4.  **Keseimbangan F1-Score:** F1-score yang relatif seimbang (0.85 untuk 'Negative' dan 0.93 untuk 'Positive') menunjukkan bahwa model memiliki keseimbangan yang baik antara presisi dan *recall* untuk kedua kelas.\n",
    "5.  **Implikasi Ketidakseimbangan Kelas:** Mengingat *imbalance* kelas (kelas 'Positive' memiliki *support* yang jauh lebih tinggi), kinerja yang kuat pada kedua kelas (terutama *recall* kelas 'Positive') menunjukkan bahwa model menangani ketidakseimbangan ini dengan cukup baik.\n",
    "\n",
    "#### 2. Heatmap Confusion Matrix (Test Data)\n",
    "\n",
    "**Pembahasan:**\n",
    "Heatmap ini secara visual merepresentasikan *confusion matrix*, menampilkan jumlah *true positives* (TP), *true negatives* (TN), *false positives* (FP), dan *false negatives* (FN). Sumbu Y (True Label) menunjukkan kelas aktual, dan sumbu X (Predicted Label) menunjukkan kelas yang diprediksi.\n",
    "\n",
    "**Insight:**\n",
    "1.  **Konfirmasi Visual:** *Confusion matrix* ini akan secara visual mengkonfirmasi angka-angka dari laporan klasifikasi. Diagonal utama (TP dan TN) akan menunjukkan jumlah prediksi yang benar, dan elemen *off-diagonal* (FP dan FN) akan menunjukkan kesalahan.\n",
    "2.  **Jenis Kesalahan:**\n",
    "    * Jumlah *false negative* (aktual 'Negative' tapi diprediksi 'Positive') akan lebih tinggi dibandingkan *false positive* (aktual 'Positive' tapi diprediksi 'Negative'), sesuai dengan *recall* kelas 'Negative' yang lebih rendah. Ini berarti model lebih sering melewatkan kasus ketidakpuasan daripada salah mengklasifikasikan kepuasan sebagai ketidakpuasan. Dalam konteks kepuasan pengguna, ini berarti model lebih mungkin untuk tidak menandai pengguna yang tidak puas (dan mungkin membiarkan masalah berlanjut) daripada secara salah menandai pengguna yang puas sebagai tidak puas (yang mungkin mengarah pada penyelidikan yang tidak perlu).\n",
    "\n",
    "#### 3. ROC AUC Curve (Binary Classification)\n",
    "\n",
    "**Pembahasan:**\n",
    "Kurva ROC (Receiver Operating Characteristic) memplot True Positive Rate (TPR) terhadap False Positive Rate (FPR) pada berbagai pengaturan ambang batas klasifikasi. AUC (Area Under the Curve) mengukur kemampuan model untuk membedakan antara kelas positif dan negatif.\n",
    "* **AUC = 0.95**.\n",
    "\n",
    "**Insight:**\n",
    "1.  **Kemampuan Diskriminasi yang Luar Biasa:** Nilai AUC 0.95 adalah hasil yang sangat baik. Ini menunjukkan bahwa model memiliki kemampuan diskriminatif yang luar biasa; sangat baik dalam membedakan antara pengguna yang puas dan tidak puas.\n",
    "2.  **Kualitas Model yang Tinggi:** AUC mendekati 1.0 (klasifikasi sempurna) menunjukkan bahwa model ini sangat berkualitas dan dapat memberikan probabilitas prediksi yang andal.\n",
    "3.  **Robustness terhadap Ambang Batas:** AUC yang tinggi juga menyiratkan bahwa kinerja model relatif tidak sensitif terhadap pilihan ambang batas klasifikasi tertentu. Ini memberikan fleksibilitas untuk menyesuaikan ambang batas jika ada kebutuhan untuk memprioritaskan *recall* atau presisi lebih dari yang lain di lingkungan produksi.\n",
    "\n",
    "---\n",
    "\n",
    "### Ringkasan Hasil Analisis\n",
    "\n",
    "Analisis mendalam terhadap model CNN untuk prediksi kepuasan pengguna menunjukkan hasil yang sangat menjanjikan.\n",
    "\n",
    "**Kinerja Model (pada Data Uji):**\n",
    "* **Akurasi Keseluruhan:** 90%\n",
    "* **Kelas 'Negatif (-1)':** Presisi: 0.90, *Recall*: 0.81, F1-score: 0.85\n",
    "* **Kelas 'Positif (1)':** Presisi: 0.90, *Recall*: 0.95, F1-score: 0.93\n",
    "* **ROC AUC Score:** 0.95 (menunjukkan kemampuan diskriminatif model yang sangat baik).\n",
    "\n",
    "**Poin-Poin Penting:**\n",
    "* **Pra-pemrosesan Data yang Kuat:** Penanganan format desimal internasional (koma ke titik), *encoding* fitur kategorikal, normalisasi fitur numerik, dan *reshaping* data untuk CNN telah dilakukan dengan cermat dan tepat.\n",
    "* **Arsitektur Model yang Dirancang dengan Baik:** Penggunaan lapisan `Conv1D`, `BatchNormalization`, dan `Dropout` yang efektif dalam arsitektur CNN membantu model mempelajari pola kompleks dari data dan mencegah *overfitting*.\n",
    "* **Pelatihan yang Efisien:** Penerapan `EarlyStopping` memastikan bahwa model dilatih secara optimal tanpa *overfitting*, mengembalikan bobot terbaik berdasarkan kinerja validasi.\n",
    "* **Wawasan Granular:** Selain prediksi kelas biner, program ini menyediakan tabel ringkasan terperinci yang mengelompokkan hasil prediksi berdasarkan peran pengguna (Dosen/Mahasiswa), bidang studi, nama tugas, dan kelompok skor SUS (di atas/di bawah 70). Ini memungkinkan pemahaman yang lebih nuansa tentang faktor-faktor yang memengaruhi kepuasan pengguna. Contohnya, ditemukan potensi anomali pada `Computer Science - task 2` untuk dosen dan mahasiswa, di mana prediksi negatif cukup tinggi meskipun skor SUS umumnya di atas 70. Sebaliknya, `Management - task 2,3,4` dan `Accounting - task 5` menunjukkan kepuasan mahasiswa yang sangat tinggi.\n",
    "* **Efisiensi Inferensi:** Model dapat melakukan prediksi pada seluruh dataset dengan sangat cepat, sekitar 2 detik, menjadikannya praktis untuk aplikasi *real-time*.\n",
    "\n",
    "**Kesimpulan:**\n",
    "Model CNN ini terbukti sangat efektif dalam memprediksi kepuasan pengguna, dengan akurasi dan metrik AUC yang tinggi. Kemampuannya untuk memberikan wawasan granular berdasarkan berbagai atribut pengguna dan tugas menjadikannya alat yang sangat berharga untuk analisis dan peningkatan pengalaman pengguna yang ditargetkan. Meskipun *recall* untuk kelas 'Negative' sedikit lebih rendah (0.81), secara keseluruhan model menunjukkan kinerja yang andal dan dapat diinterpretasikan."
   ]
  }
 ],
 "metadata": {
  "kernelspec": {
   "display_name": "Python 3",
   "language": "python",
   "name": "python3"
  },
  "language_info": {
   "codemirror_mode": {
    "name": "ipython",
    "version": 3
   },
   "file_extension": ".py",
   "mimetype": "text/x-python",
   "name": "python",
   "nbconvert_exporter": "python",
   "pygments_lexer": "ipython3",
   "version": "3.12.2"
  }
 },
 "nbformat": 4,
 "nbformat_minor": 5
}
